{
 "cells": [
  {
   "cell_type": "code",
   "execution_count": 1,
   "id": "9dff15f5",
   "metadata": {},
   "outputs": [],
   "source": [
    "import tensorflow as tf\n",
    "from tensorflow import keras\n",
    "from sklearn.datasets import fetch_openml\n",
    "from sklearn.model_selection import train_test_split\n",
    "from sklearn.metrics import accuracy_score, confusion_matrix\n",
    "import numpy as np\n",
    "from keras.models import Sequential\n",
    "from keras.layers import Dense\n",
    "from keras.optimizers import Adam\n",
    "from tensorflow.keras.utils import to_categorical"
   ]
  },
  {
   "cell_type": "code",
   "execution_count": 2,
   "id": "de60ca6a",
   "metadata": {},
   "outputs": [],
   "source": [
    "mnist = fetch_openml('mnist_784', version = 1)\n",
    "X = mnist.data\n",
    "y_ori = mnist.target.astype(np.int)\n",
    "#00111문자열을 정수타입으로 바꿔줌\n",
    "y = to_categorical(y_ori, 10)"
   ]
  },
  {
   "cell_type": "code",
   "execution_count": 3,
   "id": "2a81f02a",
   "metadata": {},
   "outputs": [],
   "source": [
    "X_train, X_test, y_train, y_test = train_test_split(X,y, test_size=0.3, random_state=1)"
   ]
  },
  {
   "cell_type": "code",
   "execution_count": 4,
   "id": "10e2670b",
   "metadata": {},
   "outputs": [],
   "source": [
    "#레이어 쌓기\n",
    "model = Sequential()\n",
    "model.add(Dense(input_dim = 28*28, units =20, activation='relu'))\n",
    "model.add(Dense(units = 15 , activation = 'relu'))\n",
    "model.add(Dense(units = 10, activation='softmax'))"
   ]
  },
  {
   "cell_type": "code",
   "execution_count": 6,
   "id": "e167294d",
   "metadata": {},
   "outputs": [],
   "source": [
    "model.compile(loss='categorical_crossentropy', \n",
    "              optimizer=Adam(learning_rate =0.001),\n",
    "              metrics=['accuracy'])\n",
    "#손실함수,계산,함수는 뭐로하지?\n",
    "#Adam()  --> optimizer = 'adam'이랑 같음 / ()안에 값 넣어줄것"
   ]
  },
  {
   "cell_type": "code",
   "execution_count": 7,
   "id": "3e8cff78",
   "metadata": {},
   "outputs": [
    {
     "name": "stdout",
     "output_type": "stream",
     "text": [
      "Epoch 1/10\n",
      "490/490 - 70s - loss: 2.6339 - accuracy: 0.2276 - val_loss: 1.8220 - val_accuracy: 0.3380\n",
      "Epoch 2/10\n",
      "490/490 - 3s - loss: 1.6040 - accuracy: 0.3696 - val_loss: 1.5026 - val_accuracy: 0.3992\n",
      "Epoch 3/10\n",
      "490/490 - 3s - loss: 1.3623 - accuracy: 0.4684 - val_loss: 1.2444 - val_accuracy: 0.5413\n",
      "Epoch 4/10\n",
      "490/490 - 3s - loss: 1.0518 - accuracy: 0.6379 - val_loss: 0.9866 - val_accuracy: 0.6580\n",
      "Epoch 5/10\n",
      "490/490 - 3s - loss: 0.7759 - accuracy: 0.7486 - val_loss: 0.6967 - val_accuracy: 0.8081\n",
      "Epoch 6/10\n",
      "490/490 - 3s - loss: 0.5727 - accuracy: 0.8379 - val_loss: 0.5276 - val_accuracy: 0.8569\n",
      "Epoch 7/10\n",
      "490/490 - 3s - loss: 0.4068 - accuracy: 0.8866 - val_loss: 0.3818 - val_accuracy: 0.9042\n",
      "Epoch 8/10\n",
      "490/490 - 3s - loss: 0.3213 - accuracy: 0.9122 - val_loss: 0.3297 - val_accuracy: 0.9117\n",
      "Epoch 9/10\n",
      "490/490 - 4s - loss: 0.2727 - accuracy: 0.9231 - val_loss: 0.3034 - val_accuracy: 0.9191\n",
      "Epoch 10/10\n",
      "490/490 - 3s - loss: 0.2470 - accuracy: 0.9299 - val_loss: 0.2937 - val_accuracy: 0.9225\n"
     ]
    }
   ],
   "source": [
    "#학습\n",
    "hist = model.fit(X_train, y_train , epochs=10,  batch_size =100, verbose=2,\n",
    "         validation_data = (X_test, y_test))\n",
    "#validation_data : 학습을 하면서 별도 검증용 데이터 넣어서 정확도 확인할 수 있음\n",
    "#--> 과대적합인지 볼 수 있음\n",
    "#훈련 손실값, 훈련 정확도, 검증 손실값, 검증 정확도 "
   ]
  },
  {
   "cell_type": "code",
   "execution_count": null,
   "id": "79660224",
   "metadata": {},
   "outputs": [],
   "source": [
    "#훈련데이터 accuracy: 0.9299\n",
    "#검증데이터:0.9225 --> 비슷 : 과대적합 아님"
   ]
  },
  {
   "cell_type": "code",
   "execution_count": 8,
   "id": "83d9c68f",
   "metadata": {},
   "outputs": [
    {
     "name": "stdout",
     "output_type": "stream",
     "text": [
      "657/657 [==============================] - 7s 9ms/step - loss: 0.2937 - accuracy: 0.9225\n",
      "0.29372909665107727\n",
      "0.9224761724472046\n"
     ]
    }
   ],
   "source": [
    "#평가\n",
    "loss, acc = model.evaluate(X_test, y_test)\n",
    "print(loss)\n",
    "print(acc)\n",
    "#훈련데이터, 테스트데이터 -> 비슷 ->오버피팅이 아님 "
   ]
  },
  {
   "cell_type": "code",
   "execution_count": 9,
   "id": "467ed64d",
   "metadata": {
    "collapsed": true
   },
   "outputs": [
    {
     "name": "stderr",
     "output_type": "stream",
     "text": [
      "C:\\ProgramData\\Anaconda3\\lib\\site-packages\\keras\\engine\\sequential.py:450: UserWarning: `model.predict_classes()` is deprecated and will be removed after 2021-01-01. Please use instead:* `np.argmax(model.predict(x), axis=-1)`,   if your model does multi-class classification   (e.g. if it uses a `softmax` last-layer activation).* `(model.predict(x) > 0.5).astype(\"int32\")`,   if your model does binary classification   (e.g. if it uses a `sigmoid` last-layer activation).\n",
      "  warnings.warn('`model.predict_classes()` is deprecated and '\n"
     ]
    }
   ],
   "source": [
    "#예측값 - 얼마나 잘 떨어지는지\n",
    "#confusion matrix가지고 \n",
    "#완전한 임의데이터 아님 \n",
    "\n",
    "y_pred = model.predict(X_test)\n",
    "y_pred_class = model.predict_classes(X_test)"
   ]
  },
  {
   "cell_type": "code",
   "execution_count": 10,
   "id": "996577f5",
   "metadata": {},
   "outputs": [],
   "source": [
    "y_test_class = np.argmax(y_test, axis=1)\n",
    "\n",
    "\n",
    "#y_ori =>2\n",
    "#y =[0,0,1,0,0,0,0,0,0,0] 데이터 이렇게 생김\n",
    "#그 최댓값이 어느위치에 있는지?\n",
    "# 위치: 2\n",
    "#axis =1 : 한 행 안에서 열단위(열을 바꿔가며)로 찾음\n",
    "#np.argmax(y_test,axis=1)=>2"
   ]
  },
  {
   "cell_type": "code",
   "execution_count": 15,
   "id": "1b257988",
   "metadata": {
    "collapsed": true
   },
   "outputs": [
    {
     "name": "stdout",
     "output_type": "stream",
     "text": [
      "[[1996    1    7    2   16    6   26    3   18    1]\n",
      " [   2 2309   26   11    1    0    1   10   26    4]\n",
      " [  16   12 1944   20   17    4   32    8   66    5]\n",
      " [   4    7   43 1875    1  118    3   18   48   48]\n",
      " [   1    4   11    1 1859    9   65   15   22   76]\n",
      " [  43    1   10   53   10 1664   54    0   53   35]\n",
      " [  15    0   11    0   15    3 1940    3   12    0]\n",
      " [   8   13   12    8   41    5    1 2014    8   46]\n",
      " [  22   11   17    6   15   23   31    1 1894   28]\n",
      " [   5    5    1    9   75   35    2   32   15 1877]]\n"
     ]
    }
   ],
   "source": [
    "#confusion matrix\n",
    "print(confusion_matrix(y_test_class,y_pred_class))\n"
   ]
  },
  {
   "cell_type": "code",
   "execution_count": null,
   "id": "0f69dca1",
   "metadata": {},
   "outputs": [],
   "source": [
    "#optimizer = \"adam\"\n",
    "#optimizer = \"sgd\"\n",
    "#optimizer = \"rmsprop\"\n",
    "\n",
    "from keras.optimizers import \n",
    "#dir(keras.optimizers) --> 최적화 기법들\n",
    "\n",
    "#optimizer = Adam()\n",
    "#optimizer = SGD()\n",
    "#optimizer = RMSprop()\n",
    "\n",
    "#help(SGD) :SGD() 안에 인자 무엇있는지"
   ]
  },
  {
   "cell_type": "code",
   "execution_count": null,
   "id": "5c6ce344",
   "metadata": {},
   "outputs": [],
   "source": []
  }
 ],
 "metadata": {
  "kernelspec": {
   "display_name": "Python 3",
   "language": "python",
   "name": "python3"
  },
  "language_info": {
   "codemirror_mode": {
    "name": "ipython",
    "version": 3
   },
   "file_extension": ".py",
   "mimetype": "text/x-python",
   "name": "python",
   "nbconvert_exporter": "python",
   "pygments_lexer": "ipython3",
   "version": "3.8.8"
  }
 },
 "nbformat": 4,
 "nbformat_minor": 5
}
