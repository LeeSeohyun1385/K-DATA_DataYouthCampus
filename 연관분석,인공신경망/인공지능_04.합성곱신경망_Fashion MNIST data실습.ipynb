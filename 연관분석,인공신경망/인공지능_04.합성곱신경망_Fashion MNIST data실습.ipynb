{
 "cells": [
  {
   "cell_type": "code",
   "execution_count": 1,
   "id": "428f464a",
   "metadata": {},
   "outputs": [],
   "source": [
    "import tensorflow as tf\n",
    "from tensorflow import keras\n",
    "from keras.models import Sequential\n",
    "from keras.layers import Dense, Flatten, Dropout\n",
    "from keras.layers.convolutional import Conv2D, MaxPooling2D\n",
    "from tensorflow.keras.utils import to_categorical"
   ]
  },
  {
   "cell_type": "code",
   "execution_count": 2,
   "id": "11fdc34d",
   "metadata": {
    "collapsed": true
   },
   "outputs": [
    {
     "name": "stdout",
     "output_type": "stream",
     "text": [
      "Help on package keras.datasets in keras:\n",
      "\n",
      "NAME\n",
      "    keras.datasets - Small NumPy datasets for debugging/testing.\n",
      "\n",
      "PACKAGE CONTENTS\n",
      "    boston_housing\n",
      "    cifar\n",
      "    cifar10\n",
      "    cifar100\n",
      "    fashion_mnist\n",
      "    imdb\n",
      "    mnist\n",
      "    reuters\n",
      "\n",
      "FILE\n",
      "    c:\\programdata\\anaconda3\\lib\\site-packages\\keras\\datasets\\__init__.py\n",
      "\n",
      "\n"
     ]
    }
   ],
   "source": [
    "import keras.datasets as d\n",
    "help(d)"
   ]
  },
  {
   "cell_type": "code",
   "execution_count": 3,
   "id": "0e0f9ea6",
   "metadata": {},
   "outputs": [],
   "source": [
    "fmnist = keras.datasets.fashion_mnist\n",
    "(X_train, y_train),(X_test, y_test) = fmnist.load_data()\n",
    "#훈련데이터, 검증데이터 쪼개져있음"
   ]
  },
  {
   "cell_type": "code",
   "execution_count": 6,
   "id": "0378eb5e",
   "metadata": {},
   "outputs": [
    {
     "data": {
      "text/plain": [
       "array([9, 0, 0, 3, 0, 2, 7, 2, 5, 5], dtype=uint8)"
      ]
     },
     "execution_count": 6,
     "metadata": {},
     "output_type": "execute_result"
    }
   ],
   "source": [
    "#X_train.shape\n",
    "#y_train.shape\n",
    "y_train[:10]"
   ]
  },
  {
   "cell_type": "code",
   "execution_count": 10,
   "id": "98a93d79",
   "metadata": {
    "collapsed": true
   },
   "outputs": [
    {
     "data": {
      "text/plain": [
       "<matplotlib.image.AxesImage at 0x2538d183580>"
      ]
     },
     "execution_count": 10,
     "metadata": {},
     "output_type": "execute_result"
    },
    {
     "data": {
      "image/png": "[encoded data removed]",
      "text/plain": [
       "<Figure size 864x288 with 3 Axes>"
      ]
     },
     "metadata": {
      "needs_background": "light"
     },
     "output_type": "display_data"
    }
   ],
   "source": [
    "#이미지 그려보기 \n",
    "import matplotlib.pyplot as plt\n",
    "\n",
    "plt.figure(figsize=(12,4))\n",
    "plt.subplot(1,3,1)\n",
    "plt.imshow(X_train[0])\n",
    "\n",
    "plt.subplot(1,3,2)\n",
    "plt.imshow(X_train[1])\n",
    "\n",
    "plt.subplot(1,3,3)\n",
    "plt.imshow(X_train[2])"
   ]
  },
  {
   "cell_type": "code",
   "execution_count": 16,
   "id": "63015461",
   "metadata": {},
   "outputs": [
    {
     "data": {
      "text/plain": [
       "(60000, 28, 28)"
      ]
     },
     "execution_count": 16,
     "metadata": {},
     "output_type": "execute_result"
    }
   ],
   "source": [
    "X_train.shape\n",
    "#X_test.shape"
   ]
  },
  {
   "cell_type": "code",
   "execution_count": 17,
   "id": "02807aa3",
   "metadata": {},
   "outputs": [],
   "source": [
    "#데이터 차원 증가 \n",
    "import numpy as np\n",
    "X_train2 = X_train[:,:,:,np.newaxis]\n",
    "X_test2 = X_test[:,:,:,np.newaxis]\n",
    "#주어진 데이터의 차원을 하나 증가(4차원으로 만듬) - 전 실습에서의 reshape과 같은 것"
   ]
  },
  {
   "cell_type": "code",
   "execution_count": null,
   "id": "5227e34e",
   "metadata": {},
   "outputs": [],
   "source": [
    "#한 장의 이미지에 대해 3차원으로 만들어야하는 이유\n",
    "#채널정보가 픽셀에 박혀있음"
   ]
  },
  {
   "cell_type": "code",
   "execution_count": 22,
   "id": "1978db4c",
   "metadata": {
    "scrolled": true
   },
   "outputs": [
    {
     "data": {
      "text/plain": [
       "(60000, 28, 28, 1)"
      ]
     },
     "execution_count": 22,
     "metadata": {},
     "output_type": "execute_result"
    }
   ],
   "source": [
    "X_train2.shape\n",
    "#y_train.shape"
   ]
  },
  {
   "cell_type": "code",
   "execution_count": 28,
   "id": "5bf84d70",
   "metadata": {},
   "outputs": [],
   "source": [
    "#원핫인코딩\n",
    "y_train2 = to_categorical(y_train, 10)\n",
    "y_test2 = to_categorical(y_test,10)\n",
    "#10 : class 개수 "
   ]
  },
  {
   "cell_type": "code",
   "execution_count": 30,
   "id": "150dde3e",
   "metadata": {},
   "outputs": [],
   "source": [
    "model = Sequential()\n",
    "model.add(Conv2D(filters = 32, kernel_size = (3,3),\n",
    "                strides=(1,1), padding='Same',\n",
    "                activation = 'relu', input_shape=(28,28,1)))\n",
    "model.add(MaxPooling2D(pool_size=(2,2)))\n",
    "#filters : 2의n 승에 해당하는 값으로 노드의 개수 설정 (최솟값:2의5승=32)\n",
    "\n",
    "\n",
    "model.add(Conv2D(filters = 64, kernel_size = (3,3),\n",
    "                strides=(1,1), padding='Same',\n",
    "                activation = 'relu'))\n",
    "model.add(MaxPooling2D(pool_size=(2,2)))\n",
    "\n",
    "\n",
    "model.add(Conv2D(filters = 32, kernel_size = (3,3),\n",
    "                strides=(1,1), padding='Same',\n",
    "                activation = 'relu'))\n",
    "model.add(MaxPooling2D(pool_size=(2,2)))\n",
    "\n",
    "\n",
    "\n",
    "\n",
    "model.add(Flatten())\n",
    "\n",
    "model.add(Dense(units = 128, activation = 'relu'))\n",
    "model.add(Dense(units = 64, activation = 'relu'))\n",
    "model.add(Dense(units = 32, activation = 'relu'))\n",
    "model.add(Dense(units=10, activation='softmax'))\n"
   ]
  },
  {
   "cell_type": "code",
   "execution_count": 31,
   "id": "0a508251",
   "metadata": {},
   "outputs": [],
   "source": [
    "model.compile(loss = 'categorical_crossentropy',\n",
    "             optimizer = 'adam',\n",
    "             metrics=['accuracy'])"
   ]
  },
  {
   "cell_type": "code",
   "execution_count": 32,
   "id": "a9b8f63b",
   "metadata": {
    "collapsed": true
   },
   "outputs": [
    {
     "name": "stdout",
     "output_type": "stream",
     "text": [
      "Model: \"sequential_1\"\n",
      "_________________________________________________________________\n",
      "Layer (type)                 Output Shape              Param #   \n",
      "=================================================================\n",
      "conv2d_3 (Conv2D)            (None, 28, 28, 32)        320       \n",
      "_________________________________________________________________\n",
      "max_pooling2d_3 (MaxPooling2 (None, 14, 14, 32)        0         \n",
      "_________________________________________________________________\n",
      "conv2d_4 (Conv2D)            (None, 14, 14, 64)        18496     \n",
      "_________________________________________________________________\n",
      "max_pooling2d_4 (MaxPooling2 (None, 7, 7, 64)          0         \n",
      "_________________________________________________________________\n",
      "conv2d_5 (Conv2D)            (None, 7, 7, 32)          18464     \n",
      "_________________________________________________________________\n",
      "max_pooling2d_5 (MaxPooling2 (None, 3, 3, 32)          0         \n",
      "_________________________________________________________________\n",
      "flatten_1 (Flatten)          (None, 288)               0         \n",
      "_________________________________________________________________\n",
      "dense_4 (Dense)              (None, 128)               36992     \n",
      "_________________________________________________________________\n",
      "dense_5 (Dense)              (None, 64)                8256      \n",
      "_________________________________________________________________\n",
      "dense_6 (Dense)              (None, 32)                2080      \n",
      "_________________________________________________________________\n",
      "dense_7 (Dense)              (None, 10)                330       \n",
      "=================================================================\n",
      "Total params: 84,938\n",
      "Trainable params: 84,938\n",
      "Non-trainable params: 0\n",
      "_________________________________________________________________\n"
     ]
    }
   ],
   "source": [
    "model.summary()"
   ]
  },
  {
   "cell_type": "code",
   "execution_count": 32,
   "id": "3cd1961c",
   "metadata": {},
   "outputs": [],
   "source": [
    "hist = model.fit(X_train2, y_train2,\n",
    "         epochs =10,\n",
    "         batch_size = 100,\n",
    "         verbose =0)"
   ]
  },
  {
   "cell_type": "code",
   "execution_count": 33,
   "id": "5cc9f9a4",
   "metadata": {
    "collapsed": true
   },
   "outputs": [
    {
     "data": {
      "text/plain": [
       "[0.8096833229064941,\n",
       " 0.8794833421707153,\n",
       " 0.8959166407585144,\n",
       " 0.9072499871253967,\n",
       " 0.9131166934967041,\n",
       " 0.9178500175476074,\n",
       " 0.9229999780654907,\n",
       " 0.9260333180427551,\n",
       " 0.9310833215713501,\n",
       " 0.9352999925613403]"
      ]
     },
     "execution_count": 33,
     "metadata": {},
     "output_type": "execute_result"
    }
   ],
   "source": [
    "#train에 대한 손실값, 정확도\n",
    "hist.history['accuracy']"
   ]
  },
  {
   "cell_type": "code",
   "execution_count": 34,
   "id": "ca292a5b",
   "metadata": {
    "collapsed": true
   },
   "outputs": [
    {
     "data": {
      "text/plain": [
       "[0.5894266963005066,\n",
       " 0.33443787693977356,\n",
       " 0.28573381900787354,\n",
       " 0.253811240196228,\n",
       " 0.2348259836435318,\n",
       " 0.22243326902389526,\n",
       " 0.20559513568878174,\n",
       " 0.20114204287528992,\n",
       " 0.1870763599872589,\n",
       " 0.17378973960876465]"
      ]
     },
     "execution_count": 34,
     "metadata": {},
     "output_type": "execute_result"
    }
   ],
   "source": [
    "hist.history['loss']"
   ]
  },
  {
   "cell_type": "code",
   "execution_count": 35,
   "id": "821b5af9",
   "metadata": {},
   "outputs": [
    {
     "name": "stdout",
     "output_type": "stream",
     "text": [
      "313/313 [==============================] - 18s 42ms/step - loss: 0.2822 - accuracy: 0.9048\n",
      "손실값: 0.282\n",
      "정확도: 0.905\n"
     ]
    }
   ],
   "source": [
    "#모형성능평가\n",
    "loss, acc = model.evaluate(X_test2, y_test2)\n",
    "print('손실값:', round(loss,3))\n",
    "print('정확도:', round(acc,3))"
   ]
  },
  {
   "cell_type": "code",
   "execution_count": 36,
   "id": "1faa3f2e",
   "metadata": {
    "collapsed": true
   },
   "outputs": [
    {
     "name": "stdout",
     "output_type": "stream",
     "text": [
      "[[2.42870133e-08 7.33897405e-12 2.48452908e-11 1.05327331e-06\n",
      "  3.44347022e-08 1.19114884e-04 5.37148859e-09 6.69684901e-04\n",
      "  8.97591406e-08 9.99209881e-01]\n",
      " [9.01108524e-06 6.14329088e-10 9.99550760e-01 1.02685658e-06\n",
      "  1.42657271e-04 2.52711380e-10 2.96422950e-04 4.13529194e-12\n",
      "  1.72322756e-09 6.70292771e-12]\n",
      " [2.43470843e-09 1.00000000e+00 1.99031361e-10 1.12460118e-10\n",
      "  2.60493849e-11 2.99304148e-16 1.21748600e-09 5.48774567e-13\n",
      "  1.79534630e-14 3.32881725e-16]]\n"
     ]
    }
   ],
   "source": [
    "y_pred = model.predict(X_test2)\n",
    "print(y_pred[0:3])"
   ]
  },
  {
   "cell_type": "code",
   "execution_count": null,
   "id": "74bc6ec4",
   "metadata": {},
   "outputs": [],
   "source": []
  }
 ],
 "metadata": {
  "kernelspec": {
   "display_name": "Python 3",
   "language": "python",
   "name": "python3"
  },
  "language_info": {
   "codemirror_mode": {
    "name": "ipython",
    "version": 3
   },
   "file_extension": ".py",
   "mimetype": "text/x-python",
   "name": "python",
   "nbconvert_exporter": "python",
   "pygments_lexer": "ipython3",
   "version": "3.8.8"
  }
 },
 "nbformat": 4,
 "nbformat_minor": 5
}
