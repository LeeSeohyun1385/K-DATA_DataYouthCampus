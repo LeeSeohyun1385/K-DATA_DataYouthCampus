{
 "cells": [
  {
   "cell_type": "markdown",
   "id": "a05eec3d",
   "metadata": {},
   "source": [
    "# 단층 퍼셉트론"
   ]
  },
  {
   "cell_type": "code",
   "execution_count": 3,
   "id": "dc5e7bbf",
   "metadata": {},
   "outputs": [],
   "source": [
    "import sklearn.linear_model as lm\n",
    "\n",
    "ppn_clf = lm.Perceptron(eta0 = 0.01, max_iter=1000, tol = 0.001)\n",
    "\n",
    "#clf분류기의미 "
   ]
  },
  {
   "cell_type": "markdown",
   "id": "99cd4848",
   "metadata": {},
   "source": [
    "### 데이터 "
   ]
  },
  {
   "cell_type": "code",
   "execution_count": 5,
   "id": "0cd05202",
   "metadata": {},
   "outputs": [],
   "source": [
    "import sklearn.datasets as d\n",
    "\n",
    "# dir(d) #밑줄 그어있는 거 제외하고 불러올 수 있는 데이터셋(패치-실제 데이터)\n",
    "\n",
    "iris = d.load_iris()\n",
    "X = iris.data\n",
    "y = iris.target\n",
    "#토이 데이터셋이라 가능 "
   ]
  },
  {
   "cell_type": "code",
   "execution_count": 8,
   "id": "7dae491c",
   "metadata": {
    "scrolled": false
   },
   "outputs": [],
   "source": [
    "import sklearn.model_selection as ms \n",
    "\n",
    "X_train, X_test, y_train, y_test = ms.train_test_split(X,y,test_size=0.3, random_state = 0)\n",
    "#random_state : 실행할 때 마다 결과가 달라지는 것 방지 \n"
   ]
  },
  {
   "cell_type": "markdown",
   "id": "4d2a3344",
   "metadata": {},
   "source": [
    "### 학습수행"
   ]
  },
  {
   "cell_type": "code",
   "execution_count": 9,
   "id": "31b26b66",
   "metadata": {},
   "outputs": [],
   "source": [
    "#학습 수행\n",
    "clf = ppn_clf.fit(X_train, y_train)"
   ]
  },
  {
   "cell_type": "code",
   "execution_count": 10,
   "id": "b057a37e",
   "metadata": {},
   "outputs": [],
   "source": [
    "#예측\n",
    "y_pred = clf.predict(X_test)"
   ]
  },
  {
   "cell_type": "code",
   "execution_count": 11,
   "id": "dd149ee3",
   "metadata": {},
   "outputs": [
    {
     "name": "stdout",
     "output_type": "stream",
     "text": [
      "정확도: 0.8\n",
      "[[16  0  0]\n",
      " [ 2  9  7]\n",
      " [ 0  0 11]]\n"
     ]
    }
   ],
   "source": [
    "#정확도 측정\n",
    "\n",
    "import sklearn.metrics as mt\n",
    "score = mt.accuracy_score(y_test, y_pred)\n",
    "print(\"정확도:\", score)\n",
    "\n",
    "matrix = mt.confusion_matrix(y_test, y_pred)\n",
    "print(matrix)"
   ]
  },
  {
   "cell_type": "code",
   "execution_count": null,
   "id": "574253b2",
   "metadata": {},
   "outputs": [],
   "source": [
    "#%whos : 사용할 수 있는(하고 있는) 변수, 함수 이름 볼 수 있음 "
   ]
  }
 ],
 "metadata": {
  "kernelspec": {
   "display_name": "Python 3",
   "language": "python",
   "name": "python3"
  },
  "language_info": {
   "codemirror_mode": {
    "name": "ipython",
    "version": 3
   },
   "file_extension": ".py",
   "mimetype": "text/x-python",
   "name": "python",
   "nbconvert_exporter": "python",
   "pygments_lexer": "ipython3",
   "version": "3.8.8"
  }
 },
 "nbformat": 4,
 "nbformat_minor": 5
}
