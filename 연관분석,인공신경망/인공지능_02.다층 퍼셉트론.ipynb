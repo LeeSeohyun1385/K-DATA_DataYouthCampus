{
 "cells": [
  {
   "cell_type": "markdown",
   "id": "e8815b54",
   "metadata": {},
   "source": [
    "# 다층 퍼셉트론"
   ]
  },
  {
   "cell_type": "code",
   "execution_count": 1,
   "id": "dda4df8a",
   "metadata": {},
   "outputs": [],
   "source": [
    "import sklearn.neural_network as nn\n",
    "\n",
    "ppn_clf = nn.MLPClassifier(learning_rate_init = 0.1,\n",
    "                          max_iter = 1000,\n",
    "                          activation = 'relu',\n",
    "                          hidden_layer_sizes = (50,40,30))\n",
    "\n",
    "#은닉층 3개 , 첫번째 은닉층 노드 50개, 두번째 층 노드40개, 세번째 층 노드 30개"
   ]
  },
  {
   "cell_type": "markdown",
   "id": "52e10241",
   "metadata": {},
   "source": [
    "### 데이터"
   ]
  },
  {
   "cell_type": "code",
   "execution_count": 2,
   "id": "fe8dec74",
   "metadata": {},
   "outputs": [],
   "source": [
    "import sklearn.datasets as d\n",
    "\n",
    "# dir(d) #밑줄 그어있는 거 제외하고 불러올 수 있는 데이터셋(패치-실제 데이터)\n",
    "\n",
    "iris = d.load_iris()\n",
    "X = iris.data\n",
    "y = iris.target\n",
    "#토이 데이터셋이라 가능 "
   ]
  },
  {
   "cell_type": "code",
   "execution_count": 3,
   "id": "02015604",
   "metadata": {},
   "outputs": [],
   "source": [
    "import sklearn.model_selection as ms \n",
    "\n",
    "X_train, X_test, y_train, y_test = ms.train_test_split(X,y,test_size=0.3, random_state = 0)\n",
    "#random_state : 실행할 때 마다 결과가 달라지는 것 방지 \n"
   ]
  },
  {
   "cell_type": "code",
   "execution_count": 4,
   "id": "e39ed308",
   "metadata": {},
   "outputs": [],
   "source": [
    "#학습수행 "
   ]
  },
  {
   "cell_type": "code",
   "execution_count": 5,
   "id": "f6561f53",
   "metadata": {},
   "outputs": [],
   "source": [
    "clf = ppn_clf.fit(X_train, y_train)"
   ]
  },
  {
   "cell_type": "code",
   "execution_count": 6,
   "id": "5c16703e",
   "metadata": {},
   "outputs": [],
   "source": [
    "y_pred = clf.predict(X_test)"
   ]
  },
  {
   "cell_type": "code",
   "execution_count": 7,
   "id": "ee9fa45b",
   "metadata": {},
   "outputs": [
    {
     "name": "stdout",
     "output_type": "stream",
     "text": [
      "정확도: 0.9777777777777777\n"
     ]
    }
   ],
   "source": [
    "#정확도 측정 \n",
    "import sklearn.metrics as mt\n",
    "score = mt.accuracy_score(y_test, y_pred)\n",
    "print(\"정확도:\", score)"
   ]
  },
  {
   "cell_type": "code",
   "execution_count": 8,
   "id": "01df7e67",
   "metadata": {},
   "outputs": [
    {
     "data": {
      "text/plain": [
       "array([[16,  0,  0],\n",
       "       [ 0, 17,  1],\n",
       "       [ 0,  0, 11]], dtype=int64)"
      ]
     },
     "execution_count": 8,
     "metadata": {},
     "output_type": "execute_result"
    }
   ],
   "source": [
    "mt.confusion_matrix(y_test, y_pred)"
   ]
  },
  {
   "cell_type": "code",
   "execution_count": null,
   "id": "517b8758",
   "metadata": {},
   "outputs": [],
   "source": []
  },
  {
   "cell_type": "code",
   "execution_count": 9,
   "id": "f465e918",
   "metadata": {},
   "outputs": [
    {
     "name": "stdout",
     "output_type": "stream",
     "text": [
      "              precision    recall  f1-score   support\n",
      "\n",
      "           0       1.00      1.00      1.00        16\n",
      "           1       1.00      0.94      0.97        18\n",
      "           2       0.92      1.00      0.96        11\n",
      "\n",
      "    accuracy                           0.98        45\n",
      "   macro avg       0.97      0.98      0.98        45\n",
      "weighted avg       0.98      0.98      0.98        45\n",
      "\n"
     ]
    }
   ],
   "source": [
    "#한번에 보기\n",
    "print(mt.classification_report(y_test, y_pred))\n",
    "\n",
    "#class번호가 0 1 2\n",
    "#평가지표들 보여줌(1에 가까울 수록 좋음)\n",
    "#support 찾은 것이 몇개?"
   ]
  },
  {
   "cell_type": "code",
   "execution_count": 10,
   "id": "e348a679",
   "metadata": {},
   "outputs": [
    {
     "name": "stdout",
     "output_type": "stream",
     "text": [
      "정확도: 0.9777777777777777\n"
     ]
    },
    {
     "data": {
      "text/plain": [
       "array([[16,  0,  0],\n",
       "       [ 0, 17,  1],\n",
       "       [ 0,  0, 11]], dtype=int64)"
      ]
     },
     "execution_count": 10,
     "metadata": {},
     "output_type": "execute_result"
    }
   ],
   "source": [
    "#은닉층 설정 바꿔보기\n",
    "ppn_clf = nn.MLPClassifier(learning_rate_init = 0.1,\n",
    "                          max_iter = 1000,\n",
    "                          activation = 'relu',\n",
    "                          hidden_layer_sizes = (100,))\n",
    "\n",
    "clf = ppn_clf.fit(X_train, y_train)\n",
    "y_pred = clf.predict(X_test)\n",
    "\n",
    "score = mt.accuracy_score(y_test, y_pred)\n",
    "print(\"정확도:\", score)\n",
    "\n",
    "mt.confusion_matrix(y_test, y_pred)"
   ]
  },
  {
   "cell_type": "code",
   "execution_count": 11,
   "id": "252edcdd",
   "metadata": {},
   "outputs": [],
   "source": [
    "#매개변수의 최적화 값을 찾는 것\n",
    "#GridSearchCV 모듈 "
   ]
  },
  {
   "cell_type": "code",
   "execution_count": 14,
   "id": "f3b00af7",
   "metadata": {
    "collapsed": true
   },
   "outputs": [
    {
     "data": {
      "text/plain": [
       "GridSearchCV(estimator=MLPClassifier(max_iter=1000), n_jobs=-1,\n",
       "             param_grid={'activation': ['relu', 'tanh'],\n",
       "                         'hidden_layer_sizes': [(100,), (100, 100), (50,),\n",
       "                                                (50, 50)]})"
      ]
     },
     "execution_count": 14,
     "metadata": {},
     "output_type": "execute_result"
    }
   ],
   "source": [
    "ppn_clf = nn.MLPClassifier(max_iter = 1000)\n",
    "params = {\n",
    "    'hidden_layer_sizes': [(100,),(100,100),(50,),(50,50)],\n",
    "    'activation' : ['relu','tanh']\n",
    "}\n",
    "\n",
    "gs_result = ms.GridSearchCV(ppn_clf,params,n_jobs = -1)\n",
    "gs_result.fit(X_train, y_train)"
   ]
  },
  {
   "cell_type": "code",
   "execution_count": null,
   "id": "554ca7c7",
   "metadata": {},
   "outputs": [],
   "source": [
    "help(ms.GridSearchCV)"
   ]
  },
  {
   "cell_type": "code",
   "execution_count": 15,
   "id": "5c71e386",
   "metadata": {},
   "outputs": [
    {
     "data": {
      "text/plain": [
       "MLPClassifier(max_iter=1000)"
      ]
     },
     "execution_count": 15,
     "metadata": {},
     "output_type": "execute_result"
    }
   ],
   "source": [
    "gs_result.best_estimator_"
   ]
  },
  {
   "cell_type": "code",
   "execution_count": 17,
   "id": "fea88956",
   "metadata": {
    "collapsed": true
   },
   "outputs": [
    {
     "data": {
      "text/plain": [
       "['__abstractmethods__',\n",
       " '__class__',\n",
       " '__delattr__',\n",
       " '__dict__',\n",
       " '__dir__',\n",
       " '__doc__',\n",
       " '__eq__',\n",
       " '__format__',\n",
       " '__ge__',\n",
       " '__getattribute__',\n",
       " '__getstate__',\n",
       " '__gt__',\n",
       " '__hash__',\n",
       " '__init__',\n",
       " '__init_subclass__',\n",
       " '__le__',\n",
       " '__lt__',\n",
       " '__module__',\n",
       " '__ne__',\n",
       " '__new__',\n",
       " '__reduce__',\n",
       " '__reduce_ex__',\n",
       " '__repr__',\n",
       " '__setattr__',\n",
       " '__setstate__',\n",
       " '__sizeof__',\n",
       " '__str__',\n",
       " '__subclasshook__',\n",
       " '__weakref__',\n",
       " '_abc_impl',\n",
       " '_check_is_fitted',\n",
       " '_check_n_features',\n",
       " '_check_refit_for_multimetric',\n",
       " '_estimator_type',\n",
       " '_format_results',\n",
       " '_get_param_names',\n",
       " '_get_tags',\n",
       " '_more_tags',\n",
       " '_pairwise',\n",
       " '_repr_html_',\n",
       " '_repr_html_inner',\n",
       " '_repr_mimebundle_',\n",
       " '_required_parameters',\n",
       " '_run_search',\n",
       " '_validate_data',\n",
       " 'best_estimator_',\n",
       " 'best_index_',\n",
       " 'best_params_',\n",
       " 'best_score_',\n",
       " 'classes_',\n",
       " 'cv',\n",
       " 'cv_results_',\n",
       " 'decision_function',\n",
       " 'error_score',\n",
       " 'estimator',\n",
       " 'fit',\n",
       " 'get_params',\n",
       " 'inverse_transform',\n",
       " 'multimetric_',\n",
       " 'n_features_in_',\n",
       " 'n_jobs',\n",
       " 'n_splits_',\n",
       " 'param_grid',\n",
       " 'pre_dispatch',\n",
       " 'predict',\n",
       " 'predict_log_proba',\n",
       " 'predict_proba',\n",
       " 'refit',\n",
       " 'refit_time_',\n",
       " 'return_train_score',\n",
       " 'score',\n",
       " 'score_samples',\n",
       " 'scorer_',\n",
       " 'scoring',\n",
       " 'set_params',\n",
       " 'transform',\n",
       " 'verbose']"
      ]
     },
     "execution_count": 17,
     "metadata": {},
     "output_type": "execute_result"
    }
   ],
   "source": [
    "dir(gs_result)"
   ]
  },
  {
   "cell_type": "code",
   "execution_count": 18,
   "id": "e89aa25f",
   "metadata": {},
   "outputs": [
    {
     "data": {
      "text/plain": [
       "{'activation': 'relu', 'hidden_layer_sizes': (100,)}"
      ]
     },
     "execution_count": 18,
     "metadata": {},
     "output_type": "execute_result"
    }
   ],
   "source": [
    "gs_result.best_params_ #매개변수 최적값"
   ]
  },
  {
   "cell_type": "code",
   "execution_count": 16,
   "id": "d49d54b6",
   "metadata": {},
   "outputs": [
    {
     "data": {
      "text/plain": [
       "0.9714285714285715"
      ]
     },
     "execution_count": 16,
     "metadata": {},
     "output_type": "execute_result"
    }
   ],
   "source": [
    "gs_result.best_score_"
   ]
  },
  {
   "cell_type": "code",
   "execution_count": null,
   "id": "928d64cb",
   "metadata": {},
   "outputs": [],
   "source": [
    "#실습2 - MNIST"
   ]
  },
  {
   "cell_type": "code",
   "execution_count": 24,
   "id": "07ed04f7",
   "metadata": {},
   "outputs": [],
   "source": [
    "mnist = d.fetch_openml('mnist_784',version =1 )"
   ]
  },
  {
   "cell_type": "code",
   "execution_count": 26,
   "id": "eb03e761",
   "metadata": {
    "collapsed": true
   },
   "outputs": [
    {
     "data": {
      "text/plain": [
       "\"**Author**: Yann LeCun, Corinna Cortes, Christopher J.C. Burges  \\n**Source**: [MNIST Website](http://yann.lecun.com/exdb/mnist/) - Date unknown  \\n**Please cite**:  \\n\\nThe MNIST database of handwritten digits with 784 features, raw data available at: http://yann.lecun.com/exdb/mnist/. It can be split in a training set of the first 60,000 examples, and a test set of 10,000 examples  \\n\\nIt is a subset of a larger set available from NIST. The digits have been size-normalized and centered in a fixed-size image. It is a good database for people who want to try learning techniques and pattern recognition methods on real-world data while spending minimal efforts on preprocessing and formatting. The original black and white (bilevel) images from NIST were size normalized to fit in a 20x20 pixel box while preserving their aspect ratio. The resulting images contain grey levels as a result of the anti-aliasing technique used by the normalization algorithm. the images were centered in a 28x28 image by computing the center of mass of the pixels, and translating the image so as to position this point at the center of the 28x28 field.  \\n\\nWith some classification methods (particularly template-based methods, such as SVM and K-nearest neighbors), the error rate improves when the digits are centered by bounding box rather than center of mass. If you do this kind of pre-processing, you should report it in your publications. The MNIST database was constructed from NIST's NIST originally designated SD-3 as their training set and SD-1 as their test set. However, SD-3 is much cleaner and easier to recognize than SD-1. The reason for this can be found on the fact that SD-3 was collected among Census Bureau employees, while SD-1 was collected among high-school students. Drawing sensible conclusions from learning experiments requires that the result be independent of the choice of training set and test among the complete set of samples. Therefore it was necessary to build a new database by mixing NIST's datasets.  \\n\\nThe MNIST training set is composed of 30,000 patterns from SD-3 and 30,000 patterns from SD-1. Our test set was composed of 5,000 patterns from SD-3 and 5,000 patterns from SD-1. The 60,000 pattern training set contained examples from approximately 250 writers. We made sure that the sets of writers of the training set and test set were disjoint. SD-1 contains 58,527 digit images written by 500 different writers. In contrast to SD-3, where blocks of data from each writer appeared in sequence, the data in SD-1 is scrambled. Writer identities for SD-1 is available and we used this information to unscramble the writers. We then split SD-1 in two: characters written by the first 250 writers went into our new training set. The remaining 250 writers were placed in our test set. Thus we had two sets with nearly 30,000 examples each. The new training set was completed with enough examples from SD-3, starting at pattern # 0, to make a full set of 60,000 training patterns. Similarly, the new test set was completed with SD-3 examples starting at pattern # 35,000 to make a full set with 60,000 test patterns. Only a subset of 10,000 test images (5,000 from SD-1 and 5,000 from SD-3) is available on this site. The full 60,000 sample training set is available.\\n\\nDownloaded from openml.org.\""
      ]
     },
     "execution_count": 26,
     "metadata": {},
     "output_type": "execute_result"
    }
   ],
   "source": [
    "mnist.DESCR"
   ]
  },
  {
   "cell_type": "code",
   "execution_count": 27,
   "id": "cb561f3d",
   "metadata": {
    "collapsed": true
   },
   "outputs": [
    {
     "name": "stderr",
     "output_type": "stream",
     "text": [
      "<ipython-input-27-b0bee45eb2eb>:4: DeprecationWarning: `np.int` is a deprecated alias for the builtin `int`. To silence this warning, use `int` by itself. Doing this will not modify any behavior and is safe. When replacing `np.int`, you may wish to use e.g. `np.int64` or `np.int32` to specify the precision. If you wish to review your current use, check the release note link for additional information.\n",
      "Deprecated in NumPy 1.20; for more details and guidance: https://numpy.org/devdocs/release/1.20.0-notes.html#deprecations\n",
      "  y = mnist.target.astype(np.int)\n"
     ]
    }
   ],
   "source": [
    "import numpy as np\n",
    "\n",
    "X = mnist.data\n",
    "y = mnist.target.astype(np.int)\n",
    "#정수로 바꿈"
   ]
  },
  {
   "cell_type": "code",
   "execution_count": null,
   "id": "f67fdebe",
   "metadata": {},
   "outputs": [],
   "source": [
    "#X.shape\n",
    "#y.shape\n",
    "#배열의 모양(70000열, 784행)"
   ]
  },
  {
   "cell_type": "code",
   "execution_count": 28,
   "id": "5dd60f69",
   "metadata": {
    "collapsed": true
   },
   "outputs": [
    {
     "data": {
      "text/plain": [
       "array([0, 1, 2, 3, 4, 5, 6, 7, 8, 9])"
      ]
     },
     "execution_count": 28,
     "metadata": {},
     "output_type": "execute_result"
    }
   ],
   "source": [
    "np.unique(y)"
   ]
  },
  {
   "cell_type": "code",
   "execution_count": 29,
   "id": "22c02630",
   "metadata": {},
   "outputs": [
    {
     "name": "stdout",
     "output_type": "stream",
     "text": [
      "정확도= 0.7615238095238095\n"
     ]
    }
   ],
   "source": [
    "X_train, X_test, y_train, y_test = ms.train_test_split(X,y, test_size=0.3)\n",
    "\n",
    "ppn_clf = nn.MLPClassifier(learning_rate_init=0.001, max_iter=1000,\n",
    "                          activation = \"relu\",\n",
    "                          hidden_layer_sizes=(10,10))\n",
    "clf = ppn_clf.fit(X_train, y_train)\n",
    "y_pred = clf.predict(X_test)\n",
    "print(\"정확도=\",mt.accuracy_score(y_test,y_pred))\n"
   ]
  },
  {
   "cell_type": "code",
   "execution_count": null,
   "id": "a9c7d221",
   "metadata": {},
   "outputs": [],
   "source": [
    "#정규화\n",
    "X = X/255.0\n",
    "#X를 이렇게 만들고 위로 돌아가 학습 다시 수행 -->정확도 올라감 "
   ]
  },
  {
   "cell_type": "code",
   "execution_count": null,
   "id": "84a42119",
   "metadata": {},
   "outputs": [],
   "source": []
  },
  {
   "cell_type": "code",
   "execution_count": null,
   "id": "022631c4",
   "metadata": {},
   "outputs": [],
   "source": []
  }
 ],
 "metadata": {
  "kernelspec": {
   "display_name": "Python 3",
   "language": "python",
   "name": "python3"
  },
  "language_info": {
   "codemirror_mode": {
    "name": "ipython",
    "version": 3
   },
   "file_extension": ".py",
   "mimetype": "text/x-python",
   "name": "python",
   "nbconvert_exporter": "python",
   "pygments_lexer": "ipython3",
   "version": "3.8.8"
  }
 },
 "nbformat": 4,
 "nbformat_minor": 5
}
