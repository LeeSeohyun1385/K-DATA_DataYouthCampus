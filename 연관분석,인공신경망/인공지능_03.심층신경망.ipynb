{
 "cells": [
  {
   "cell_type": "code",
   "execution_count": 4,
   "id": "e1dd82c7",
   "metadata": {},
   "outputs": [],
   "source": [
    "import tensorflow as tf\n",
    "from tensorflow import keras"
   ]
  },
  {
   "cell_type": "code",
   "execution_count": null,
   "id": "9babe965",
   "metadata": {},
   "outputs": [],
   "source": [
    "#데이터 "
   ]
  },
  {
   "cell_type": "code",
   "execution_count": 5,
   "id": "e1cb0633",
   "metadata": {},
   "outputs": [],
   "source": [
    "from sklearn.datasets import load_iris\n",
    "\n",
    "iris = load_iris()\n",
    "X, y_ori = iris.data , iris.target"
   ]
  },
  {
   "cell_type": "code",
   "execution_count": 8,
   "id": "e4df9f27",
   "metadata": {},
   "outputs": [],
   "source": [
    "#데이터 가공 - 원핫인코딩 \n",
    "from tensorflow.keras.utils import to_categorical\n",
    "y = to_categorical(y_ori, 3)\n",
    "\n",
    "#3 : class의 개수 (세토사,버지니카,버시컬러)"
   ]
  },
  {
   "cell_type": "code",
   "execution_count": 9,
   "id": "bb2cf099",
   "metadata": {},
   "outputs": [],
   "source": [
    "from sklearn.model_selection import train_test_split\n",
    "\n",
    "X_train, X_test , y_train, y_test = train_test_split(X,y,test_size=0.3,random_state=0)"
   ]
  },
  {
   "cell_type": "code",
   "execution_count": null,
   "id": "f24b82f8",
   "metadata": {},
   "outputs": [],
   "source": [
    "#학습"
   ]
  },
  {
   "cell_type": "code",
   "execution_count": 12,
   "id": "f0a96786",
   "metadata": {},
   "outputs": [],
   "source": [
    "# 신경망을 어떻게 쌓을것인가\n",
    "\n",
    "from keras.models import Sequential\n",
    "from keras.layers import Dense\n",
    "\n",
    "model = Sequential()\n",
    "model.add(Dense(units=8, input_dim=4, \n",
    "                kernel_initializer='uniform',\n",
    "                activation='relu'))\n",
    "model.add(Dense(units=3, \n",
    "                activation='softmax',\n",
    "                ))\n",
    "#신경망 모델 제안(층을 이어서 타이핑한 순서대로 쌓음)\n",
    "#model.add : 두개의 층 쌓음\n",
    "\n",
    "#첫번째 층 : 노드개수 8개, 입력노드개수 4개(feature개수와 동일),relu함수 이용하여 활성화 \n",
    "\n",
    "#입력층 1, 은닉층 1, 출력층 1"
   ]
  },
  {
   "cell_type": "code",
   "execution_count": 13,
   "id": "5c89ad85",
   "metadata": {},
   "outputs": [],
   "source": [
    "model.compile(loss='categorical_crossentropy',\n",
    "             optimizer='adam',\n",
    "             metrics=['accuracy'])"
   ]
  },
  {
   "cell_type": "code",
   "execution_count": 14,
   "id": "bb238b0b",
   "metadata": {},
   "outputs": [
    {
     "name": "stdout",
     "output_type": "stream",
     "text": [
      "Model: \"sequential_2\"\n",
      "_________________________________________________________________\n",
      "Layer (type)                 Output Shape              Param #   \n",
      "=================================================================\n",
      "dense_4 (Dense)              (None, 8)                 40        \n",
      "_________________________________________________________________\n",
      "dense_5 (Dense)              (None, 3)                 27        \n",
      "=================================================================\n",
      "Total params: 67\n",
      "Trainable params: 67\n",
      "Non-trainable params: 0\n",
      "_________________________________________________________________\n"
     ]
    }
   ],
   "source": [
    "model.summary()"
   ]
  },
  {
   "cell_type": "code",
   "execution_count": 15,
   "id": "594601e1",
   "metadata": {
    "collapsed": true
   },
   "outputs": [
    {
     "name": "stdout",
     "output_type": "stream",
     "text": [
      "Epoch 1/100\n",
      "105/105 - 66s - loss: 1.0527 - accuracy: 0.3714\n",
      "Epoch 2/100\n",
      "105/105 - 0s - loss: 1.0082 - accuracy: 0.6095\n",
      "Epoch 3/100\n",
      "105/105 - 0s - loss: 0.9481 - accuracy: 0.6952\n",
      "Epoch 4/100\n",
      "105/105 - 0s - loss: 0.8811 - accuracy: 0.6952\n",
      "Epoch 5/100\n",
      "105/105 - 0s - loss: 0.8108 - accuracy: 0.6952\n",
      "Epoch 6/100\n",
      "105/105 - 0s - loss: 0.7440 - accuracy: 0.6952\n",
      "Epoch 7/100\n",
      "105/105 - 0s - loss: 0.6809 - accuracy: 0.6952\n",
      "Epoch 8/100\n",
      "105/105 - 0s - loss: 0.6312 - accuracy: 0.6952\n",
      "Epoch 9/100\n",
      "105/105 - 0s - loss: 0.5903 - accuracy: 0.6952\n",
      "Epoch 10/100\n",
      "105/105 - 0s - loss: 0.5517 - accuracy: 0.6952\n",
      "Epoch 11/100\n",
      "105/105 - 0s - loss: 0.5192 - accuracy: 0.7143\n",
      "Epoch 12/100\n",
      "105/105 - 0s - loss: 0.4933 - accuracy: 0.7048\n",
      "Epoch 13/100\n",
      "105/105 - 0s - loss: 0.4665 - accuracy: 0.7333\n",
      "Epoch 14/100\n",
      "105/105 - 0s - loss: 0.4487 - accuracy: 0.7524\n",
      "Epoch 15/100\n",
      "105/105 - 0s - loss: 0.4274 - accuracy: 0.7714\n",
      "Epoch 16/100\n",
      "105/105 - 0s - loss: 0.4112 - accuracy: 0.8476\n",
      "Epoch 17/100\n",
      "105/105 - 0s - loss: 0.3963 - accuracy: 0.8476\n",
      "Epoch 18/100\n",
      "105/105 - 0s - loss: 0.3868 - accuracy: 0.8667\n",
      "Epoch 19/100\n",
      "105/105 - 0s - loss: 0.3704 - accuracy: 0.9429\n",
      "Epoch 20/100\n",
      "105/105 - 0s - loss: 0.3572 - accuracy: 0.9238\n",
      "Epoch 21/100\n",
      "105/105 - 0s - loss: 0.3329 - accuracy: 0.9143\n",
      "Epoch 22/100\n",
      "105/105 - 0s - loss: 0.3136 - accuracy: 0.9619\n",
      "Epoch 23/100\n",
      "105/105 - 0s - loss: 0.2958 - accuracy: 0.9619\n",
      "Epoch 24/100\n",
      "105/105 - 0s - loss: 0.2850 - accuracy: 0.9619\n",
      "Epoch 25/100\n",
      "105/105 - 0s - loss: 0.2711 - accuracy: 0.9619\n",
      "Epoch 26/100\n",
      "105/105 - 0s - loss: 0.2608 - accuracy: 0.9619\n",
      "Epoch 27/100\n",
      "105/105 - 0s - loss: 0.2490 - accuracy: 0.9524\n",
      "Epoch 28/100\n",
      "105/105 - 0s - loss: 0.2399 - accuracy: 0.9714\n",
      "Epoch 29/100\n",
      "105/105 - 0s - loss: 0.2374 - accuracy: 0.9619\n",
      "Epoch 30/100\n",
      "105/105 - 0s - loss: 0.2249 - accuracy: 0.9619\n",
      "Epoch 31/100\n",
      "105/105 - 0s - loss: 0.2149 - accuracy: 0.9619\n",
      "Epoch 32/100\n",
      "105/105 - 0s - loss: 0.2201 - accuracy: 0.9333\n",
      "Epoch 33/100\n",
      "105/105 - 0s - loss: 0.1995 - accuracy: 0.9714\n",
      "Epoch 34/100\n",
      "105/105 - 1s - loss: 0.1922 - accuracy: 0.9714\n",
      "Epoch 35/100\n",
      "105/105 - 0s - loss: 0.1847 - accuracy: 0.9714\n",
      "Epoch 36/100\n",
      "105/105 - 0s - loss: 0.1795 - accuracy: 0.9619\n",
      "Epoch 37/100\n",
      "105/105 - 0s - loss: 0.1746 - accuracy: 0.9714\n",
      "Epoch 38/100\n",
      "105/105 - 1s - loss: 0.1737 - accuracy: 0.9619\n",
      "Epoch 39/100\n",
      "105/105 - 1s - loss: 0.1697 - accuracy: 0.9714\n",
      "Epoch 40/100\n",
      "105/105 - 1s - loss: 0.1676 - accuracy: 0.9714\n",
      "Epoch 41/100\n",
      "105/105 - 0s - loss: 0.1618 - accuracy: 0.9619\n",
      "Epoch 42/100\n",
      "105/105 - 0s - loss: 0.1553 - accuracy: 0.9619\n",
      "Epoch 43/100\n",
      "105/105 - 0s - loss: 0.1553 - accuracy: 0.9619\n",
      "Epoch 44/100\n",
      "105/105 - 1s - loss: 0.1484 - accuracy: 0.9619\n",
      "Epoch 45/100\n",
      "105/105 - 0s - loss: 0.1468 - accuracy: 0.9714\n",
      "Epoch 46/100\n",
      "105/105 - 0s - loss: 0.1434 - accuracy: 0.9619\n",
      "Epoch 47/100\n",
      "105/105 - 1s - loss: 0.1364 - accuracy: 0.9714\n",
      "Epoch 48/100\n",
      "105/105 - 1s - loss: 0.1337 - accuracy: 0.9619\n",
      "Epoch 49/100\n",
      "105/105 - 0s - loss: 0.1299 - accuracy: 0.9714\n",
      "Epoch 50/100\n",
      "105/105 - 0s - loss: 0.1324 - accuracy: 0.9524\n",
      "Epoch 51/100\n",
      "105/105 - 0s - loss: 0.1354 - accuracy: 0.9619\n",
      "Epoch 52/100\n",
      "105/105 - 0s - loss: 0.1247 - accuracy: 0.9714\n",
      "Epoch 53/100\n",
      "105/105 - 0s - loss: 0.1249 - accuracy: 0.9524\n",
      "Epoch 54/100\n",
      "105/105 - 0s - loss: 0.1230 - accuracy: 0.9714\n",
      "Epoch 55/100\n",
      "105/105 - 0s - loss: 0.1213 - accuracy: 0.9714\n",
      "Epoch 56/100\n",
      "105/105 - 0s - loss: 0.1190 - accuracy: 0.9619\n",
      "Epoch 57/100\n",
      "105/105 - 0s - loss: 0.1126 - accuracy: 0.9619\n",
      "Epoch 58/100\n",
      "105/105 - 0s - loss: 0.1176 - accuracy: 0.9810\n",
      "Epoch 59/100\n",
      "105/105 - 0s - loss: 0.1084 - accuracy: 0.9619\n",
      "Epoch 60/100\n",
      "105/105 - 0s - loss: 0.1135 - accuracy: 0.9619\n",
      "Epoch 61/100\n",
      "105/105 - 0s - loss: 0.1096 - accuracy: 0.9619\n",
      "Epoch 62/100\n",
      "105/105 - 0s - loss: 0.1075 - accuracy: 0.9810\n",
      "Epoch 63/100\n",
      "105/105 - 0s - loss: 0.1034 - accuracy: 0.9524\n",
      "Epoch 64/100\n",
      "105/105 - 0s - loss: 0.1070 - accuracy: 0.9619\n",
      "Epoch 65/100\n",
      "105/105 - 0s - loss: 0.1023 - accuracy: 0.9524\n",
      "Epoch 66/100\n",
      "105/105 - 0s - loss: 0.1043 - accuracy: 0.9429\n",
      "Epoch 67/100\n",
      "105/105 - 0s - loss: 0.0987 - accuracy: 0.9619\n",
      "Epoch 68/100\n",
      "105/105 - 0s - loss: 0.1005 - accuracy: 0.9619\n",
      "Epoch 69/100\n",
      "105/105 - 1s - loss: 0.0966 - accuracy: 0.9714\n",
      "Epoch 70/100\n",
      "105/105 - 1s - loss: 0.0941 - accuracy: 0.9714\n",
      "Epoch 71/100\n",
      "105/105 - 1s - loss: 0.0976 - accuracy: 0.9524\n",
      "Epoch 72/100\n",
      "105/105 - 1s - loss: 0.0943 - accuracy: 0.9714\n",
      "Epoch 73/100\n",
      "105/105 - 0s - loss: 0.0939 - accuracy: 0.9810\n",
      "Epoch 74/100\n",
      "105/105 - 0s - loss: 0.0926 - accuracy: 0.9619\n",
      "Epoch 75/100\n",
      "105/105 - 0s - loss: 0.0930 - accuracy: 0.9619\n",
      "Epoch 76/100\n",
      "105/105 - 0s - loss: 0.0897 - accuracy: 0.9714\n",
      "Epoch 77/100\n",
      "105/105 - 0s - loss: 0.0878 - accuracy: 0.9619\n",
      "Epoch 78/100\n",
      "105/105 - 0s - loss: 0.0904 - accuracy: 0.9810\n",
      "Epoch 79/100\n",
      "105/105 - 0s - loss: 0.0941 - accuracy: 0.9619\n",
      "Epoch 80/100\n",
      "105/105 - 0s - loss: 0.0892 - accuracy: 0.9810\n",
      "Epoch 81/100\n",
      "105/105 - 0s - loss: 0.0877 - accuracy: 0.9810\n",
      "Epoch 82/100\n",
      "105/105 - 0s - loss: 0.0804 - accuracy: 0.9810\n",
      "Epoch 83/100\n",
      "105/105 - 0s - loss: 0.0873 - accuracy: 0.9714\n",
      "Epoch 84/100\n",
      "105/105 - 0s - loss: 0.0831 - accuracy: 0.9810\n",
      "Epoch 85/100\n",
      "105/105 - 0s - loss: 0.0834 - accuracy: 0.9619\n",
      "Epoch 86/100\n",
      "105/105 - 0s - loss: 0.0829 - accuracy: 0.9714\n",
      "Epoch 87/100\n",
      "105/105 - 0s - loss: 0.0889 - accuracy: 0.9714\n",
      "Epoch 88/100\n",
      "105/105 - 0s - loss: 0.0828 - accuracy: 0.9714\n",
      "Epoch 89/100\n",
      "105/105 - 0s - loss: 0.0835 - accuracy: 0.9619\n",
      "Epoch 90/100\n",
      "105/105 - 0s - loss: 0.0811 - accuracy: 0.9810\n",
      "Epoch 91/100\n",
      "105/105 - 0s - loss: 0.0838 - accuracy: 0.9714\n",
      "Epoch 92/100\n",
      "105/105 - 0s - loss: 0.0811 - accuracy: 0.9619\n",
      "Epoch 93/100\n",
      "105/105 - 0s - loss: 0.0762 - accuracy: 0.9810\n",
      "Epoch 94/100\n",
      "105/105 - 0s - loss: 0.0773 - accuracy: 0.9714\n",
      "Epoch 95/100\n",
      "105/105 - 0s - loss: 0.0834 - accuracy: 0.9714\n",
      "Epoch 96/100\n",
      "105/105 - 0s - loss: 0.0759 - accuracy: 0.9714\n",
      "Epoch 97/100\n",
      "105/105 - 0s - loss: 0.0807 - accuracy: 0.9714\n",
      "Epoch 98/100\n",
      "105/105 - 0s - loss: 0.0816 - accuracy: 0.9714\n",
      "Epoch 99/100\n",
      "105/105 - 0s - loss: 0.0765 - accuracy: 0.9714\n",
      "Epoch 100/100\n",
      "105/105 - 0s - loss: 0.0737 - accuracy: 0.9714\n"
     ]
    },
    {
     "data": {
      "text/plain": [
       "<keras.callbacks.History at 0x24ab3f239a0>"
      ]
     },
     "execution_count": 15,
     "metadata": {},
     "output_type": "execute_result"
    }
   ],
   "source": [
    "model.fit(X_train, y_train,\n",
    "         epochs = 100,\n",
    "         batch_size = 1,\n",
    "         verbose=2)"
   ]
  },
  {
   "cell_type": "code",
   "execution_count": 16,
   "id": "4622b987",
   "metadata": {},
   "outputs": [],
   "source": [
    "hist = model.fit(X_train, y_train , \n",
    "                epochs = 100,\n",
    "                batch_size = 1,\n",
    "                verbose=0)"
   ]
  },
  {
   "cell_type": "code",
   "execution_count": null,
   "id": "9090748e",
   "metadata": {},
   "outputs": [],
   "source": [
    "#학습용 데이터의 손실과 정확도"
   ]
  },
  {
   "cell_type": "code",
   "execution_count": 17,
   "id": "c88cf001",
   "metadata": {
    "collapsed": true
   },
   "outputs": [
    {
     "data": {
      "text/plain": [
       "[0.9714285731315613,\n",
       " 0.9809523820877075,\n",
       " 0.9714285731315613,\n",
       " 0.9809523820877075,\n",
       " 0.9809523820877075,\n",
       " 0.961904764175415,\n",
       " 0.9714285731315613,\n",
       " 0.9523809552192688,\n",
       " 0.9809523820877075,\n",
       " 0.9714285731315613,\n",
       " 0.9714285731315613,\n",
       " 0.961904764175415,\n",
       " 0.9714285731315613,\n",
       " 0.961904764175415,\n",
       " 0.9523809552192688,\n",
       " 0.9714285731315613,\n",
       " 0.9714285731315613,\n",
       " 0.961904764175415,\n",
       " 0.9714285731315613,\n",
       " 0.9714285731315613,\n",
       " 0.9714285731315613,\n",
       " 0.9714285731315613,\n",
       " 0.9714285731315613,\n",
       " 0.9714285731315613,\n",
       " 0.9523809552192688,\n",
       " 0.9809523820877075,\n",
       " 0.9809523820877075,\n",
       " 0.961904764175415,\n",
       " 0.961904764175415,\n",
       " 0.9904761910438538,\n",
       " 0.961904764175415,\n",
       " 0.9714285731315613,\n",
       " 0.9714285731315613,\n",
       " 0.9714285731315613,\n",
       " 0.9714285731315613,\n",
       " 0.9714285731315613,\n",
       " 0.9714285731315613,\n",
       " 0.9809523820877075,\n",
       " 0.961904764175415,\n",
       " 0.961904764175415,\n",
       " 0.9714285731315613,\n",
       " 0.9714285731315613,\n",
       " 0.9809523820877075,\n",
       " 0.9714285731315613,\n",
       " 0.9714285731315613,\n",
       " 0.9714285731315613,\n",
       " 0.961904764175415,\n",
       " 0.9904761910438538,\n",
       " 0.9714285731315613,\n",
       " 0.961904764175415,\n",
       " 0.961904764175415,\n",
       " 0.9714285731315613,\n",
       " 0.9714285731315613,\n",
       " 0.9714285731315613,\n",
       " 0.9714285731315613,\n",
       " 0.9714285731315613,\n",
       " 0.9714285731315613,\n",
       " 0.9904761910438538,\n",
       " 0.9714285731315613,\n",
       " 0.9714285731315613,\n",
       " 0.9809523820877075,\n",
       " 0.961904764175415,\n",
       " 0.9714285731315613,\n",
       " 0.9714285731315613,\n",
       " 0.9809523820877075,\n",
       " 0.9714285731315613,\n",
       " 0.9809523820877075,\n",
       " 0.9714285731315613,\n",
       " 0.9714285731315613,\n",
       " 0.9809523820877075,\n",
       " 0.9714285731315613,\n",
       " 0.9714285731315613,\n",
       " 0.9714285731315613,\n",
       " 0.9714285731315613,\n",
       " 0.961904764175415,\n",
       " 0.9714285731315613,\n",
       " 0.9714285731315613,\n",
       " 0.9904761910438538,\n",
       " 0.9714285731315613,\n",
       " 0.9714285731315613,\n",
       " 0.9523809552192688,\n",
       " 0.9714285731315613,\n",
       " 0.961904764175415,\n",
       " 0.9809523820877075,\n",
       " 0.961904764175415,\n",
       " 0.9714285731315613,\n",
       " 0.961904764175415,\n",
       " 0.9714285731315613,\n",
       " 0.9714285731315613,\n",
       " 0.9714285731315613,\n",
       " 0.9714285731315613,\n",
       " 0.9714285731315613,\n",
       " 0.9809523820877075,\n",
       " 0.9714285731315613,\n",
       " 0.961904764175415,\n",
       " 0.9714285731315613,\n",
       " 0.9809523820877075,\n",
       " 0.9714285731315613,\n",
       " 0.9714285731315613,\n",
       " 0.9809523820877075]"
      ]
     },
     "execution_count": 17,
     "metadata": {},
     "output_type": "execute_result"
    }
   ],
   "source": [
    "hist.history['accuracy']"
   ]
  },
  {
   "cell_type": "code",
   "execution_count": 18,
   "id": "91a570e3",
   "metadata": {
    "collapsed": true
   },
   "outputs": [
    {
     "data": {
      "text/plain": [
       "[0.07834073901176453,\n",
       " 0.07480166852474213,\n",
       " 0.06982976943254471,\n",
       " 0.06784993410110474,\n",
       " 0.07471571117639542,\n",
       " 0.07480721920728683,\n",
       " 0.07286759465932846,\n",
       " 0.0782165378332138,\n",
       " 0.07287468016147614,\n",
       " 0.0768534317612648,\n",
       " 0.07211373746395111,\n",
       " 0.07220782339572906,\n",
       " 0.06875597685575485,\n",
       " 0.07279349118471146,\n",
       " 0.07551934570074081,\n",
       " 0.06979402154684067,\n",
       " 0.0660761296749115,\n",
       " 0.08054754883050919,\n",
       " 0.07008713483810425,\n",
       " 0.06813858449459076,\n",
       " 0.06553837656974792,\n",
       " 0.07563374936580658,\n",
       " 0.06807710230350494,\n",
       " 0.06623802334070206,\n",
       " 0.07267244160175323,\n",
       " 0.06744195520877838,\n",
       " 0.06433691829442978,\n",
       " 0.07306204736232758,\n",
       " 0.06880763173103333,\n",
       " 0.06662127375602722,\n",
       " 0.06590190529823303,\n",
       " 0.06598777323961258,\n",
       " 0.06277072429656982,\n",
       " 0.06747716665267944,\n",
       " 0.06817719340324402,\n",
       " 0.06523112207651138,\n",
       " 0.06375706195831299,\n",
       " 0.06392183899879456,\n",
       " 0.0629039853811264,\n",
       " 0.06471911072731018,\n",
       " 0.06937454640865326,\n",
       " 0.06283740699291229,\n",
       " 0.06405556201934814,\n",
       " 0.06422441452741623,\n",
       " 0.06333420425653458,\n",
       " 0.0670197531580925,\n",
       " 0.065276138484478,\n",
       " 0.055496569722890854,\n",
       " 0.061705250293016434,\n",
       " 0.06329989433288574,\n",
       " 0.06438116729259491,\n",
       " 0.06799957901239395,\n",
       " 0.06032925099134445,\n",
       " 0.05818324163556099,\n",
       " 0.06052976846694946,\n",
       " 0.060349687933921814,\n",
       " 0.06312166899442673,\n",
       " 0.05349788814783096,\n",
       " 0.0623154416680336,\n",
       " 0.059221021831035614,\n",
       " 0.056028034538030624,\n",
       " 0.06095174327492714,\n",
       " 0.0605396032333374,\n",
       " 0.06058306619524956,\n",
       " 0.05854529142379761,\n",
       " 0.06129302829504013,\n",
       " 0.056728243827819824,\n",
       " 0.05948329716920853,\n",
       " 0.05799473822116852,\n",
       " 0.057727135717868805,\n",
       " 0.05727868899703026,\n",
       " 0.05811138078570366,\n",
       " 0.06129787489771843,\n",
       " 0.05699608102440834,\n",
       " 0.05840156227350235,\n",
       " 0.055792223662137985,\n",
       " 0.06035836413502693,\n",
       " 0.05420205742120743,\n",
       " 0.0566280260682106,\n",
       " 0.05304322391748428,\n",
       " 0.07157255709171295,\n",
       " 0.05853302404284477,\n",
       " 0.056042421609163284,\n",
       " 0.0527404323220253,\n",
       " 0.0603875070810318,\n",
       " 0.056339483708143234,\n",
       " 0.055733926594257355,\n",
       " 0.05464501678943634,\n",
       " 0.053118009120225906,\n",
       " 0.06492789834737778,\n",
       " 0.054163068532943726,\n",
       " 0.051484089344739914,\n",
       " 0.05434124171733856,\n",
       " 0.0546230711042881,\n",
       " 0.057760946452617645,\n",
       " 0.0551762729883194,\n",
       " 0.054586853832006454,\n",
       " 0.05697048455476761,\n",
       " 0.056100551038980484,\n",
       " 0.05005904287099838]"
      ]
     },
     "execution_count": 18,
     "metadata": {},
     "output_type": "execute_result"
    }
   ],
   "source": [
    "hist.history['loss']"
   ]
  },
  {
   "cell_type": "code",
   "execution_count": null,
   "id": "aa5bc985",
   "metadata": {},
   "outputs": [],
   "source": [
    "#평가"
   ]
  },
  {
   "cell_type": "code",
   "execution_count": 19,
   "id": "cd33e10f",
   "metadata": {},
   "outputs": [
    {
     "name": "stdout",
     "output_type": "stream",
     "text": [
      "2/2 [==============================] - 2s 6ms/step - loss: 0.0720 - accuracy: 0.9778\n"
     ]
    }
   ],
   "source": [
    "loss, acc = model.evaluate(X_test, y_test)"
   ]
  },
  {
   "cell_type": "code",
   "execution_count": 20,
   "id": "609c70a4",
   "metadata": {},
   "outputs": [
    {
     "name": "stdout",
     "output_type": "stream",
     "text": [
      "손실값: 0.072\n",
      "정확도: 0.978\n"
     ]
    }
   ],
   "source": [
    "#test 데이터의 손실과 정확도\n",
    "print(\"손실값:\",round(loss,3))\n",
    "print(\"정확도:\",round(acc,3))"
   ]
  },
  {
   "cell_type": "code",
   "execution_count": null,
   "id": "39d2c74d",
   "metadata": {},
   "outputs": [],
   "source": [
    "#주어진 데이터에 대해 과대적합이 아님\n",
    "#--> test데이터에서의 정확도가 train에서의 정확도보다 높게 나옴 "
   ]
  },
  {
   "cell_type": "code",
   "execution_count": null,
   "id": "cc81309c",
   "metadata": {},
   "outputs": [],
   "source": [
    "#임의의 데이터에 대해 모형출력 확인"
   ]
  },
  {
   "cell_type": "code",
   "execution_count": 21,
   "id": "21f3fbda",
   "metadata": {},
   "outputs": [
    {
     "name": "stdout",
     "output_type": "stream",
     "text": [
      "[[7.39 7.91 7.99 1.67]\n",
      " [5.56 4.01 4.19 4.29]\n",
      " [8.17 4.95 0.48 7.75]]\n"
     ]
    }
   ],
   "source": [
    "from numpy.random import random\n",
    "from numpy import round\n",
    "\n",
    "X_new = round(random([3,4])*10, 2)\n",
    "print(X_new)\n",
    "\n",
    "#[3,4]: 3행 4열 배열을 만들기 \n",
    "#0이상 1 미만\n",
    "#4개 feature - 붓꽃\n",
    "#이데이터를 넣어서 확인해보는 것"
   ]
  },
  {
   "cell_type": "code",
   "execution_count": 22,
   "id": "70f86aca",
   "metadata": {},
   "outputs": [
    {
     "name": "stdout",
     "output_type": "stream",
     "text": [
      "[[8.3212894e-09 9.9967170e-01 3.2833876e-04]\n",
      " [3.2099857e-13 3.8710563e-04 9.9961287e-01]\n",
      " [2.5941140e-14 1.7026190e-04 9.9982965e-01]]\n"
     ]
    }
   ],
   "source": [
    "y_pred = model.predict(X_new)\n",
    "print(y_pred)\n",
    "\n",
    "#한 라인이 하나의 데이터에 대한 soft max 결과\n",
    "#첫번째 붓꽃에서 0번레이블(클래스)일 확률 (8.3212894e-09)\n",
    "#첫번째 붓꽃에서는 1번 클래스 \n",
    "\n",
    "#두번째 붓꽃\n",
    "#0번클래스 \n",
    "\n",
    "#3번째 - 2번클래스 "
   ]
  },
  {
   "cell_type": "code",
   "execution_count": 23,
   "id": "9a20eba8",
   "metadata": {},
   "outputs": [
    {
     "name": "stderr",
     "output_type": "stream",
     "text": [
      "C:\\ProgramData\\Anaconda3\\lib\\site-packages\\keras\\engine\\sequential.py:450: UserWarning: `model.predict_classes()` is deprecated and will be removed after 2021-01-01. Please use instead:* `np.argmax(model.predict(x), axis=-1)`,   if your model does multi-class classification   (e.g. if it uses a `softmax` last-layer activation).* `(model.predict(x) > 0.5).astype(\"int32\")`,   if your model does binary classification   (e.g. if it uses a `sigmoid` last-layer activation).\n",
      "  warnings.warn('`model.predict_classes()` is deprecated and '\n"
     ]
    },
    {
     "name": "stdout",
     "output_type": "stream",
     "text": [
      "[1 2 2]\n"
     ]
    }
   ],
   "source": [
    "#클래스 정보\n",
    "y_pred_class = model.predict_classes(X_new)\n",
    "print(y_pred_class)"
   ]
  },
  {
   "cell_type": "code",
   "execution_count": null,
   "id": "9fab3292",
   "metadata": {},
   "outputs": [],
   "source": []
  },
  {
   "cell_type": "code",
   "execution_count": null,
   "id": "fd3c3443",
   "metadata": {},
   "outputs": [],
   "source": []
  }
 ],
 "metadata": {
  "kernelspec": {
   "display_name": "Python 3",
   "language": "python",
   "name": "python3"
  },
  "language_info": {
   "codemirror_mode": {
    "name": "ipython",
    "version": 3
   },
   "file_extension": ".py",
   "mimetype": "text/x-python",
   "name": "python",
   "nbconvert_exporter": "python",
   "pygments_lexer": "ipython3",
   "version": "3.8.8"
  }
 },
 "nbformat": 4,
 "nbformat_minor": 5
}
