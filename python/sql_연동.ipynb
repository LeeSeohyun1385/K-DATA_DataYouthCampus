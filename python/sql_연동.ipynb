{
  "nbformat": 4,
  "nbformat_minor": 5,
  "metadata": {
    "kernelspec": {
      "display_name": "Python 3",
      "language": "python",
      "name": "python3"
    },
    "language_info": {
      "codemirror_mode": {
        "name": "ipython",
        "version": 3
      },
      "file_extension": ".py",
      "mimetype": "text/x-python",
      "name": "python",
      "nbconvert_exporter": "python",
      "pygments_lexer": "ipython3",
      "version": "3.8.8"
    },
    "colab": {
      "name": "sql 연동.ipynb",
      "provenance": [],
      "include_colab_link": true
    }
  },
  "cells": [
    {
      "cell_type": "markdown",
      "metadata": {
        "id": "view-in-github",
        "colab_type": "text"
      },
      "source": [
        "<a href=\"https://colab.research.google.com/github/LeeSeohyun1385/study/blob/main/python/sql_%EC%97%B0%EB%8F%99.ipynb\" target=\"_parent\"><img src=\"https://colab.research.google.com/assets/colab-badge.svg\" alt=\"Open In Colab\"/></a>"
      ]
    },
    {
      "cell_type": "code",
      "metadata": {
        "id": "4d9dbd0a"
      },
      "source": [
        "#connect sh/lsh\n",
        "#conn sys/password as sysdba\n",
        "#in RUN sql \n",
        "\n",
        "\n",
        "#cx_Oracle설치방법\n",
        "#터미널 - pip install cx_Oracle"
      ],
      "id": "4d9dbd0a",
      "execution_count": null,
      "outputs": []
    },
    {
      "cell_type": "code",
      "metadata": {
        "id": "c4a6916a"
      },
      "source": [
        "import cx_Oracle"
      ],
      "id": "c4a6916a",
      "execution_count": null,
      "outputs": []
    },
    {
      "cell_type": "code",
      "metadata": {
        "id": "99b20a16",
        "outputId": "7f90f116-fbdc-4ca4-e13e-6a04bd8b92cc"
      },
      "source": [
        "conn=cx_Oracle.connect('sh/lsh@localhost:1521/xe') #sld\n",
        "\n",
        "cur=conn.cursor()\n",
        "\n",
        "cur.execute('select from employee')\n",
        "\n",
        "for result in cur:\n",
        "        print(result)\n",
        "    \n",
        "    #pd.sql_('')   pd.read_csv('파일명')\n",
        "    #result\n",
        "    #시각화\n",
        "    #통계적분석 기계학습\n",
        "    #딥러닝\n",
        "    \n",
        "    \n",
        "cur.close()\n",
        "conn.close()"
      ],
      "id": "99b20a16",
      "execution_count": null,
      "outputs": [
        {
          "output_type": "error",
          "ename": "DatabaseError",
          "evalue": "ORA-00936: missing expression",
          "traceback": [
            "\u001b[1;31m---------------------------------------------------------------------------\u001b[0m",
            "\u001b[1;31mDatabaseError\u001b[0m                             Traceback (most recent call last)",
            "\u001b[1;32m<ipython-input-4-8396c8736d22>\u001b[0m in \u001b[0;36m<module>\u001b[1;34m\u001b[0m\n\u001b[0;32m      3\u001b[0m \u001b[0mcur\u001b[0m\u001b[1;33m=\u001b[0m\u001b[0mconn\u001b[0m\u001b[1;33m.\u001b[0m\u001b[0mcursor\u001b[0m\u001b[1;33m(\u001b[0m\u001b[1;33m)\u001b[0m\u001b[1;33m\u001b[0m\u001b[1;33m\u001b[0m\u001b[0m\n\u001b[0;32m      4\u001b[0m \u001b[1;33m\u001b[0m\u001b[0m\n\u001b[1;32m----> 5\u001b[1;33m \u001b[0mcur\u001b[0m\u001b[1;33m.\u001b[0m\u001b[0mexecute\u001b[0m\u001b[1;33m(\u001b[0m\u001b[1;34m'select from employee'\u001b[0m\u001b[1;33m)\u001b[0m\u001b[1;33m\u001b[0m\u001b[1;33m\u001b[0m\u001b[0m\n\u001b[0m\u001b[0;32m      6\u001b[0m \u001b[1;33m\u001b[0m\u001b[0m\n\u001b[0;32m      7\u001b[0m \u001b[1;32mfor\u001b[0m \u001b[0mresult\u001b[0m \u001b[1;32min\u001b[0m \u001b[0mcur\u001b[0m\u001b[1;33m:\u001b[0m\u001b[1;33m\u001b[0m\u001b[1;33m\u001b[0m\u001b[0m\n",
            "\u001b[1;31mDatabaseError\u001b[0m: ORA-00936: missing expression"
          ]
        }
      ]
    },
    {
      "cell_type": "code",
      "metadata": {
        "id": "d22a93de"
      },
      "source": [
        ""
      ],
      "id": "d22a93de",
      "execution_count": null,
      "outputs": []
    }
  ]
}