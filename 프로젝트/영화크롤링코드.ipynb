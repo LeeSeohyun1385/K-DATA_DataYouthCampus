{
  "nbformat": 4,
  "nbformat_minor": 0,
  "metadata": {
    "colab": {
      "name": "영화크롤링코드.ipynb",
      "provenance": [],
      "collapsed_sections": [],
      "authorship_tag": "ABX9TyP+Gu6qWNDea5wsMxW+zv7O",
      "include_colab_link": true
    },
    "kernelspec": {
      "name": "python3",
      "display_name": "Python 3"
    },
    "language_info": {
      "name": "python"
    }
  },
  "cells": [
    {
      "cell_type": "markdown",
      "metadata": {
        "id": "view-in-github",
        "colab_type": "text"
      },
      "source": [
        "<a href=\"https://colab.research.google.com/github/LeeSeohyun1385/study/blob/main/%EC%98%81%ED%99%94%ED%81%AC%EB%A1%A4%EB%A7%81%EC%BD%94%EB%93%9C.ipynb\" target=\"_parent\"><img src=\"https://colab.research.google.com/assets/colab-badge.svg\" alt=\"Open In Colab\"/></a>"
      ]
    },
    {
      "cell_type": "code",
      "metadata": {
        "id": "2kiGrRH7rzKq"
      },
      "source": [
        "import requests\n",
        "import numpy as np\n",
        "import pandas as pd\n",
        "from bs4 import BeautifulSoup\n",
        "from datetime import datetime\n",
        "\n",
        "\n",
        "test_url='https://movie.naver.com/movie/bi/mi/pointWriteFormList.naver?code=167105&type=after&isActualPointWriteExecute=false&isMileageSubscriptionAlready=false&isMileageSubscriptionReject=false'\n",
        "resp= requests.get(test_url)\n",
        "html=BeautifulSoup(resp.content, 'html.parser')\n",
        "\n",
        "#전체 댓글수 및 페이지 수\n",
        "result=html.find('div', {'class':'score_total'}).find('strong').findChildren('em')[0].getText()\n",
        "comments=int(result.replace(',',''))\n",
        "pages=int(np.ceil(comments/10))\n",
        "\n",
        "#코멘트 리스트 \n",
        "cmlst=pd.DataFrame(columns=['time','ID','text','score','like','dislike','watch_movie'])\n",
        "\n",
        "#데이터 추출 함수 정의\n",
        "def get_data(url):\n",
        "    global cmlst\n",
        "    global review_text\n",
        "    global nickname\n",
        "    global created_at\n",
        "    global like\n",
        "    global dislike\n",
        "    global score\n",
        "    #url 호출\n",
        "    resp=requests.get(url)\n",
        "    html=BeautifulSoup(resp.content,'html.parser')\n",
        "    #평점 영역 추출\n",
        "    score_result=html.find('div',{'class':'score_result'})\n",
        "    lis=score_result.findAll('li')\n",
        "    for li in lis:\n",
        "        try: \n",
        "            nickname = li.findAll('a')[0].find('span').getText()\n",
        "        except:\n",
        "            try:\n",
        "                nickname = li.findAll('a')[1].find('span').getText()\n",
        "            except:\n",
        "                pass\n",
        "            \n",
        "        try:\n",
        "            created_at = datetime.strptime(li.find('dt').findAll('em')[-1].getText(), \"%Y.%m.%d %H:%M\")\n",
        "            like=li.find('div',{'class':'btn_area'}).findAll('strong')[0].getText()\n",
        "            dislike=li.find('div',{'class':'btn_area'}).findAll('strong')[1].getText()\n",
        "        except AttributeError:\n",
        "            pass\n",
        "        \n",
        "        try:\n",
        "            attr = li.select_one('a')\n",
        "            review_text = attr['data-src']\n",
        "        except KeyError:\n",
        "            review_text = li.find('p').getText().replace('\\t',r'').replace('\\n',r'').replace('\\r',r'').replace('\\t',r'').replace('관람객',r'').replace('스포일러가 포함된 감상평입니다. 감상평 보기',r'')\n",
        "        score=li.find('em').getText()\n",
        "        watch_movie = li.find('span', {'class':'ico_viewer'})\n",
        "        cmlst=cmlst.append({'time':created_at,'ID':nickname,'text':review_text,'score':score,'like':like,\n",
        "                            'dislike':dislike, 'watch_movie': watch_movie and True or False},ignore_index=True)\n",
        "\n",
        "\n",
        "for i in range(1,pages+1):\n",
        "    url=test_url+'&page='+str(i)\n",
        "    get_data(url)\n",
        "\n",
        "#csv출력\n",
        "cmlst.to_csv('암수살인.csv',sep=',', na_rep='NaN',encoding='CP949')"
      ],
      "execution_count": 1,
      "outputs": []
    }
  ]
}
