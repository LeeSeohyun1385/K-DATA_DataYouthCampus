{
 "cells": [
  {
   "cell_type": "markdown",
   "metadata": {},
   "source": [
    "# 다항회귀"
   ]
  },
  {
   "cell_type": "markdown",
   "metadata": {},
   "source": [
    "## 다항식 특성으로 변환"
   ]
  },
  {
   "cell_type": "code",
   "execution_count": 1,
   "metadata": {},
   "outputs": [
    {
     "data": {
      "text/plain": [
       "array([[0, 1],\n",
       "       [2, 3]])"
      ]
     },
     "execution_count": 1,
     "metadata": {},
     "output_type": "execute_result"
    }
   ],
   "source": [
    "import numpy as np\n",
    "\n",
    "X = np.arange(4).reshape(2,2)\n",
    "X\n",
    "##우선 1차원 0,1,2,3만듦(2행2열 짜리 어레이를 해줘)\n"
   ]
  },
  {
   "cell_type": "markdown",
   "metadata": {},
   "source": [
    "preprocessing모듈의 PolynomialFeatures를 이용하여 특성을 조합하여 다항식 형태로 변환하는 객체 생성"
   ]
  },
  {
   "cell_type": "code",
   "execution_count": 3,
   "metadata": {},
   "outputs": [],
   "source": [
    "from sklearn.preprocessing import PolynomialFeatures\n",
    "\n",
    "poly=PolynomialFeatures(degree=2)\n",
    "\n",
    "##degree=2 다항식의 차수 "
   ]
  },
  {
   "cell_type": "markdown",
   "metadata": {},
   "source": [
    "다항식 형태로 변환된 특성데이터 "
   ]
  },
  {
   "cell_type": "code",
   "execution_count": 7,
   "metadata": {},
   "outputs": [
    {
     "data": {
      "text/plain": [
       "array([[1., 0., 1., 0., 0., 1.],\n",
       "       [1., 2., 3., 4., 6., 9.]])"
      ]
     },
     "execution_count": 7,
     "metadata": {},
     "output_type": "execute_result"
    }
   ],
   "source": [
    "X_poly = poly.fit(X)\n",
    "X_poly.transform(X)"
   ]
  },
  {
   "cell_type": "code",
   "execution_count": 8,
   "metadata": {},
   "outputs": [
    {
     "data": {
      "text/plain": [
       "array([[1., 0., 1., 0., 0., 1.],\n",
       "       [1., 2., 3., 4., 6., 9.]])"
      ]
     },
     "execution_count": 8,
     "metadata": {},
     "output_type": "execute_result"
    }
   ],
   "source": [
    "X_poly = poly.fit_transform(X)\n",
    "X_poly\n",
    "##위를 한번에 "
   ]
  },
  {
   "cell_type": "markdown",
   "metadata": {},
   "source": [
    "어떤 항(특성)이 곱해지는지(만들어지는지) 알고 싶을 때 "
   ]
  },
  {
   "cell_type": "code",
   "execution_count": 9,
   "metadata": {
    "scrolled": true
   },
   "outputs": [
    {
     "data": {
      "text/plain": [
       "['1', 'x0', 'x1', 'x0^2', 'x0 x1', 'x1^2']"
      ]
     },
     "execution_count": 9,
     "metadata": {},
     "output_type": "execute_result"
    }
   ],
   "source": [
    "poly.get_feature_names()"
   ]
  },
  {
   "cell_type": "code",
   "execution_count": null,
   "metadata": {},
   "outputs": [],
   "source": [
    "# sampel [[0,1][2, 3]] 변환 연습\n"
   ]
  },
  {
   "cell_type": "markdown",
   "metadata": {},
   "source": [
    "## 사이킷런으로 다항 회귀 분석"
   ]
  },
  {
   "cell_type": "code",
   "execution_count": null,
   "metadata": {},
   "outputs": [],
   "source": [
    "#1) 데이터 준비: 데이터를 생성하여 탐색 및 확인"
   ]
  },
  {
   "cell_type": "code",
   "execution_count": null,
   "metadata": {},
   "outputs": [],
   "source": [
    "import numpy as np\n",
    "import matplotlib.pyplot as plt\n",
    "\n"
   ]
  },
  {
   "cell_type": "code",
   "execution_count": null,
   "metadata": {},
   "outputs": [],
   "source": [
    "##6*(0~1) 100개\n",
    "##0~6 -> -3~3 100개\n",
    "##1/2x^2 + x +2 +noise -->가우시안 분포 따르게 x를 만듬 (np.random,randn)"
   ]
  },
  {
   "cell_type": "code",
   "execution_count": null,
   "metadata": {},
   "outputs": [],
   "source": [
    "# 2) 단순 선형 회귀 분석 및 시각화 : 비교 목적"
   ]
  },
  {
   "cell_type": "code",
   "execution_count": null,
   "metadata": {},
   "outputs": [],
   "source": [
    "##1차항:x1 , 2차항:x2 , 7차항:x7\n",
    "##최초의 원본데이터 위로 빼놓은 상태(X1_train,y_train)\n",
    "##다항회귀는 분할하지 않고 독립변수가 얼마나 늘릴 수 있는지 확인 위해 데이터 그대로 씀\n",
    "##reg1 회귀식 만들어짐 (절편과 회귀계수 만들어짐)\n",
    "##회귀식의 그림을 그리기 위해서 x(-3 부터 3 까지 100개)를 2차원으로 만듬\n",
    "##yy: xx에 대한 예측값\n",
    "##scatter : x 의 원본데이터 뿌림"
   ]
  },
  {
   "cell_type": "code",
   "execution_count": null,
   "metadata": {},
   "outputs": [],
   "source": [
    "from sklearn.linear_model import LinearRegression\n",
    "\n",
    "X_test = np.arange(-3,3,0.01)[:, np.newaxis]\n",
    "\n",
    "#ppr보고 스기 생략되는거도 있으니 사진 보기 "
   ]
  },
  {
   "cell_type": "code",
   "execution_count": null,
   "metadata": {},
   "outputs": [],
   "source": [
    "##차원 증가 :np.newaxis (2차원 array로 변함)\n",
    "## arange -3 부터 3 까지 0.01 간격으로 만들어줌"
   ]
  },
  {
   "cell_type": "code",
   "execution_count": null,
   "metadata": {},
   "outputs": [],
   "source": [
    "# 3) 2차항 형태로 다항 회귀 수행"
   ]
  },
  {
   "cell_type": "code",
   "execution_count": null,
   "metadata": {},
   "outputs": [],
   "source": [
    "##변환기 -  polynomialfeatures\n",
    "##변환기 생성시키면서 몇차항으로 늘릴 건지 (degree=2 (디폴트 값도 2))\n",
    "##변환기에 x 를 넣음 (fit_transform(x)) - x 의 특성을 2차항으로 늘림\n",
    "##회귀식에 대입 위해 xx,yy 만듬\n",
    "##yy 에서 poly.transform \n",
    "##-->fit을 하면 안되고 transform 만 해야함 -> 변환기에 다른 입력변수를 넣어야 비교가 됨, 처음에는 fit, transform 둘다 쓰지만 그 다음부터는 transform만 해야함\n",
    "##color = r -> green 으로 수정 \n",
    "\n"
   ]
  },
  {
   "cell_type": "code",
   "execution_count": null,
   "metadata": {},
   "outputs": [],
   "source": [
    "# 구해진 2차식의 계수 확인"
   ]
  },
  {
   "cell_type": "code",
   "execution_count": null,
   "metadata": {},
   "outputs": [],
   "source": [
    "##coef_ 결과에서 array[[0    , 100~]] -> 0은 상수자리 표기 (의미부여X)\n",
    "# 상수는  intercept_의 결과 "
   ]
  },
  {
   "cell_type": "code",
   "execution_count": null,
   "metadata": {},
   "outputs": [],
   "source": [
    "X2_train.shape\n",
    "##결과(100,3) ->100행 1열이였던 것이 2차에서 +2열 하여 100행 3열이 됨"
   ]
  },
  {
   "cell_type": "code",
   "execution_count": null,
   "metadata": {},
   "outputs": [],
   "source": [
    "# 4) 7차항 형태로 다항회귀 수행\n",
    "\n",
    "from sklearn.linear_model import LinearRegression\n",
    "from sklearn.preprocessing import PolynomailFeatures\n",
    "\n",
    "poly = PolynomialFeatures(degree = 7)\n",
    "\n",
    "X7_train = LinearRegression().fit(X7_train,y_train)"
   ]
  },
  {
   "cell_type": "code",
   "execution_count": null,
   "metadata": {},
   "outputs": [],
   "source": [
    "##2차 코드에서 degree=7로 변경, X7_train , reg7 변경 \n",
    "##plt.plot -> color=margenta 로 수정 "
   ]
  },
  {
   "cell_type": "code",
   "execution_count": null,
   "metadata": {},
   "outputs": [],
   "source": [
    "X7_train.shape"
   ]
  },
  {
   "cell_type": "markdown",
   "metadata": {},
   "source": [
    "여러 형태의 시각화 그래프 비교"
   ]
  },
  {
   "cell_type": "code",
   "execution_count": null,
   "metadata": {},
   "outputs": [],
   "source": []
  },
  {
   "cell_type": "code",
   "execution_count": null,
   "metadata": {},
   "outputs": [],
   "source": [
    "##[1,3,7]-[r,g,m]: 1차에서는 red로 , 2차에서는 green으로 ~\n",
    "##index번호 : i , degree : d\n",
    "##1차 : index 번호 0 ,3차 :index 번호 1 ,7차:2 --> [color]에서 0,1,2판단\n",
    "##enumerate(degree) [1,3,7]차항 순서로 루프돌려줌\n",
    "##label:그래프의 범례\n",
    "\n",
    "## X --(변환기(fit,transform(polynomial)))-->transform(결과:X2_train) --(추정기(predict))--> Linearegression(결과:y)"
   ]
  },
  {
   "cell_type": "markdown",
   "metadata": {},
   "source": [
    "데이터 흐름을 하나로 묶어줌 -> 파이프라인(Pipeline)"
   ]
  },
  {
   "cell_type": "code",
   "execution_count": null,
   "metadata": {},
   "outputs": [],
   "source": [
    "# 1) degree=2 인 모델 \n",
    "from sklearn.pipeline import make_pipeline\n"
   ]
  },
  {
   "cell_type": "code",
   "execution_count": null,
   "metadata": {},
   "outputs": [],
   "source": [
    "## 써야하는 매개변수가 적음 -> make_pipeline\n",
    "## 여기 다시 듣기 "
   ]
  },
  {
   "cell_type": "code",
   "execution_count": null,
   "metadata": {},
   "outputs": [],
   "source": [
    "#2) degree = [1,3,7]인 모델을 파이프라인으로 변환 - 추정 통합"
   ]
  },
  {
   "cell_type": "code",
   "execution_count": null,
   "metadata": {},
   "outputs": [],
   "source": [
    "##array설명추가 부분 \n",
    "xx = np.arange(-3,3,0.01) #1차원 array\n",
    "#을 2차원 배열로 만들어 주기\n",
    "np.arange(-3,3,1)[:,np.newaxis] #새로운 축을 만들어줘 ->2차원array\n",
    "np.arange(-3,3,1).reshape(2,3) #2행3열의 2차원 배열 \n",
    "#reshape(-1,2) #-1:나는 신경 쓰지 말고 (2: 2열로 만들어서)  마지막에 맞춰줘 \n"
   ]
  },
  {
   "cell_type": "markdown",
   "metadata": {},
   "source": [
    "# [실습 ]: 보스턴 집값 데이터셋을 활용한 다항회귀 실습 - 방의 갯수 VS 가격"
   ]
  },
  {
   "cell_type": "code",
   "execution_count": null,
   "metadata": {},
   "outputs": [],
   "source": [
    "#특성의 개수 1 -보스턴\n",
    "#당뇨병 - 특성이 10 개  \n",
    "#실습 ppt코드 보고 하기"
   ]
  },
  {
   "cell_type": "markdown",
   "metadata": {},
   "source": [
    "### 필요한 모듈 import"
   ]
  },
  {
   "cell_type": "code",
   "execution_count": null,
   "metadata": {},
   "outputs": [],
   "source": []
  },
  {
   "cell_type": "markdown",
   "metadata": {},
   "source": [
    "#### 데이터 수집"
   ]
  },
  {
   "cell_type": "code",
   "execution_count": null,
   "metadata": {},
   "outputs": [],
   "source": [
    "boston = load_boston()"
   ]
  },
  {
   "cell_type": "markdown",
   "metadata": {},
   "source": [
    "#### 데이터 이해"
   ]
  },
  {
   "cell_type": "code",
   "execution_count": null,
   "metadata": {},
   "outputs": [],
   "source": [
    "#boston.DESCR\n",
    "print(boston.feature_names)"
   ]
  },
  {
   "cell_type": "markdown",
   "metadata": {},
   "source": [
    "#### 데이터 준비"
   ]
  },
  {
   "cell_type": "code",
   "execution_count": null,
   "metadata": {},
   "outputs": [],
   "source": [
    "# 독립변수, 종속변수를 데이터프레임으로 정리"
   ]
  },
  {
   "cell_type": "code",
   "execution_count": null,
   "metadata": {},
   "outputs": [],
   "source": []
  },
  {
   "cell_type": "code",
   "execution_count": null,
   "metadata": {},
   "outputs": [],
   "source": []
  },
  {
   "cell_type": "code",
   "execution_count": null,
   "metadata": {},
   "outputs": [],
   "source": [
    "# 데이터프레임 확인\n"
   ]
  },
  {
   "cell_type": "code",
   "execution_count": null,
   "metadata": {},
   "outputs": [],
   "source": [
    "# 학습용, 검증용 데이터 분할\n"
   ]
  },
  {
   "cell_type": "code",
   "execution_count": null,
   "metadata": {},
   "outputs": [],
   "source": []
  },
  {
   "cell_type": "markdown",
   "metadata": {},
   "source": [
    "#### 모델 구축"
   ]
  },
  {
   "cell_type": "code",
   "execution_count": null,
   "metadata": {},
   "outputs": [],
   "source": [
    "# 시각화를 위한 xx 좌표계 미리 준비\n",
    "# y축 좌표계는 각 모델마다 만듦\n",
    "# 방의 갯수 최대값, 최소값"
   ]
  },
  {
   "cell_type": "code",
   "execution_count": null,
   "metadata": {},
   "outputs": [],
   "source": [
    "#원본 데이터 단순 회귀\n"
   ]
  },
  {
   "cell_type": "code",
   "execution_count": null,
   "metadata": {},
   "outputs": [],
   "source": []
  },
  {
   "cell_type": "code",
   "execution_count": null,
   "metadata": {},
   "outputs": [],
   "source": [
    "# 아래 셀에 있는 '???'를 지우고 본인이 작성한 코드를 입력하면 됩니다. "
   ]
  },
  {
   "cell_type": "code",
   "execution_count": null,
   "metadata": {},
   "outputs": [],
   "source": [
    "# 2차식의 다항회귀\n",
    "X2_train = ???\n",
    "X2_test = ???\n",
    "\n",
    "reg2 = ???\n",
    "y_pred2 = ???\n",
    "\n",
    "print(reg2.coef_, reg2.intercept_)\n",
    "\n",
    "xx2 = ???\n",
    "yy2 = ???"
   ]
  },
  {
   "cell_type": "code",
   "execution_count": null,
   "metadata": {},
   "outputs": [],
   "source": [
    "# 3차식의 다항회귀\n",
    "X3_train = ???\n",
    "X3_test = ???\n",
    "\n",
    "reg3 = ???\n",
    "y_pred3 = ???\n",
    "\n",
    "print(reg3.coef_, reg3.intercept_)\n",
    "\n",
    "xx3 = ???\n",
    "yy3 = ???\n"
   ]
  },
  {
   "cell_type": "markdown",
   "metadata": {},
   "source": [
    "####  다항 회귀 시각화"
   ]
  },
  {
   "cell_type": "code",
   "execution_count": null,
   "metadata": {},
   "outputs": [],
   "source": []
  },
  {
   "cell_type": "markdown",
   "metadata": {},
   "source": [
    "#### 모델 성능 평가"
   ]
  },
  {
   "cell_type": "code",
   "execution_count": null,
   "metadata": {},
   "outputs": [],
   "source": [
    "# 차수에 따른 r2(결정계수)를 시리즈로 만들어보자\n",
    "data = { 1 : r2_score(y_test, y_pred1),\n",
    "         2 : r2_score(y_test, y_pred2),\n",
    "         3 : r2_score(y_test, y_pred3) }\n",
    "       \n",
    "print(pd.Series(data))\n"
   ]
  },
  {
   "cell_type": "code",
   "execution_count": null,
   "metadata": {},
   "outputs": [],
   "source": []
  }
 ],
 "metadata": {
  "kernelspec": {
   "display_name": "Python 3",
   "language": "python",
   "name": "python3"
  },
  "language_info": {
   "codemirror_mode": {
    "name": "ipython",
    "version": 3
   },
   "file_extension": ".py",
   "mimetype": "text/x-python",
   "name": "python",
   "nbconvert_exporter": "python",
   "pygments_lexer": "ipython3",
   "version": "3.8.8"
  }
 },
 "nbformat": 4,
 "nbformat_minor": 4
}
