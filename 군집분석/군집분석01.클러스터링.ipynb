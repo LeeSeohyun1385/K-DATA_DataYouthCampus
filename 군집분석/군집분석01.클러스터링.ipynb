{
 "cells": [
  {
   "cell_type": "code",
   "execution_count": 3,
   "id": "c3475e9a",
   "metadata": {
    "collapsed": true
   },
   "outputs": [
    {
     "data": {
      "image/png": "[encoded data removed]",
      "text/plain": [
       "<Figure size 432x288 with 1 Axes>"
      ]
     },
     "metadata": {
      "needs_background": "light"
     },
     "output_type": "display_data"
    }
   ],
   "source": [
    "from __future__ import print_function\n",
    "from sklearn.datasets import make_blobs\n",
    "from sklearn.cluster import KMeans\n",
    "#from sklearn.metrics import silhouette_samples. silhouette_score\n",
    "from pandas import DataFrame\n",
    "#from sclpy.stats import entropy\n",
    "#from math import log,e\n",
    "import matplotlib.pyplot as plt\n",
    "#import matplotlib.cm as cm\n",
    "import numpy as np\n",
    "import pandas as pd\n",
    "\n",
    "X = np.array([[2,0],[3,0],[4,0],[10,0],[11,0],[12,0],[20,0],[25,0],[30,0]])\n",
    "plt.scatter(X[:,0],X[:,1],s=100)\n",
    "plt.show()\n",
    "\n",
    "##X에 x좌표 y 좌표 둘다 있음 "
   ]
  },
  {
   "cell_type": "code",
   "execution_count": 38,
   "id": "010fdf8f",
   "metadata": {},
   "outputs": [
    {
     "data": {
      "text/plain": [
       "(array([2.5, 0. ]), array([16.,  0.]))"
      ]
     },
     "execution_count": 38,
     "metadata": {},
     "output_type": "execute_result"
    }
   ],
   "source": [
    "# k-means 1회차 k=2 , m1=3 , m2=4\n",
    "model1 = KMeans(n_clusters = 2 , init = np.array([[3,0],[4,0]]),\n",
    "                n_init=1, max_iter =1 , random_state =1 ).fit(X)\n",
    "\n",
    "c0, c1 = model1.cluster_centers_ ##군집분석 돌린 결과 새로운 중심이 저장 \n",
    "c0, c1#새로운 중심점 (0번 군집, 1번 군집)\n",
    "\n",
    "\n",
    "##init : 클러스터 중심 \n",
    "##n_clusters : k\n",
    "##n_init : KMeans 돌리는 세트를 몇번 반복(한단계 한단계 하는 중)\n",
    "##max_iter : 최대 몇회차 까지 돌 것 인가(충분히 크게 설정) - 100으로 해놔도 그 전에 좋은 군집 찾으면 그 정도만 함 \n",
    "##random_state : "
   ]
  },
  {
   "cell_type": "code",
   "execution_count": 7,
   "id": "b735e25d",
   "metadata": {},
   "outputs": [
    {
     "data": {
      "text/plain": [
       "-372.75"
      ]
     },
     "execution_count": 7,
     "metadata": {},
     "output_type": "execute_result"
    }
   ],
   "source": [
    "model1.score(X),  model1.labels_\n",
    "#군집도\n",
    "#lable값 "
   ]
  },
  {
   "cell_type": "code",
   "execution_count": 15,
   "id": "291b7369",
   "metadata": {},
   "outputs": [],
   "source": [
    "def kmeans_df(model, c0, c1):\n",
    "    df = pd.DataFrame(np.hstack([X,\n",
    "                                 np.linalg.norm(X-c0, axis=1)[:,np.newaxis],\n",
    "                                 np.linalg.norm(X-c1, axis=1)[:,np.newaxis],\n",
    "                                 model.labels_[:,np.newaxis]]),\n",
    "                     columns=['x좌표','y좌표','거리0','거리1','군집번호'])\n",
    "    return df\n",
    "    \n",
    "    \n",
    "##np.hstack : np는 배열 -> 가로로(축을)붙여서 판다스 테이블로 만듬\n",
    "##X와 c0의 거리 \n",
    "##X와 c1의 거리 "
   ]
  },
  {
   "cell_type": "code",
   "execution_count": 20,
   "id": "ae6e4912",
   "metadata": {
    "collapsed": true
   },
   "outputs": [
    {
     "data": {
      "text/html": [
       "<div>\n",
       "<style scoped>\n",
       "    .dataframe tbody tr th:only-of-type {\n",
       "        vertical-align: middle;\n",
       "    }\n",
       "\n",
       "    .dataframe tbody tr th {\n",
       "        vertical-align: top;\n",
       "    }\n",
       "\n",
       "    .dataframe thead th {\n",
       "        text-align: right;\n",
       "    }\n",
       "</style>\n",
       "<table border=\"1\" class=\"dataframe\">\n",
       "  <thead>\n",
       "    <tr style=\"text-align: right;\">\n",
       "      <th></th>\n",
       "      <th>x좌표</th>\n",
       "      <th>y좌표</th>\n",
       "      <th>거리0</th>\n",
       "      <th>거리1</th>\n",
       "      <th>군집번호</th>\n",
       "    </tr>\n",
       "  </thead>\n",
       "  <tbody>\n",
       "    <tr>\n",
       "      <th>0</th>\n",
       "      <td>2.0</td>\n",
       "      <td>0.0</td>\n",
       "      <td>0.5</td>\n",
       "      <td>14.0</td>\n",
       "      <td>0.0</td>\n",
       "    </tr>\n",
       "    <tr>\n",
       "      <th>1</th>\n",
       "      <td>3.0</td>\n",
       "      <td>0.0</td>\n",
       "      <td>0.5</td>\n",
       "      <td>13.0</td>\n",
       "      <td>0.0</td>\n",
       "    </tr>\n",
       "    <tr>\n",
       "      <th>2</th>\n",
       "      <td>4.0</td>\n",
       "      <td>0.0</td>\n",
       "      <td>1.5</td>\n",
       "      <td>12.0</td>\n",
       "      <td>0.0</td>\n",
       "    </tr>\n",
       "    <tr>\n",
       "      <th>3</th>\n",
       "      <td>10.0</td>\n",
       "      <td>0.0</td>\n",
       "      <td>7.5</td>\n",
       "      <td>6.0</td>\n",
       "      <td>1.0</td>\n",
       "    </tr>\n",
       "    <tr>\n",
       "      <th>4</th>\n",
       "      <td>11.0</td>\n",
       "      <td>0.0</td>\n",
       "      <td>8.5</td>\n",
       "      <td>5.0</td>\n",
       "      <td>1.0</td>\n",
       "    </tr>\n",
       "    <tr>\n",
       "      <th>5</th>\n",
       "      <td>12.0</td>\n",
       "      <td>0.0</td>\n",
       "      <td>9.5</td>\n",
       "      <td>4.0</td>\n",
       "      <td>1.0</td>\n",
       "    </tr>\n",
       "    <tr>\n",
       "      <th>6</th>\n",
       "      <td>20.0</td>\n",
       "      <td>0.0</td>\n",
       "      <td>17.5</td>\n",
       "      <td>4.0</td>\n",
       "      <td>1.0</td>\n",
       "    </tr>\n",
       "    <tr>\n",
       "      <th>7</th>\n",
       "      <td>25.0</td>\n",
       "      <td>0.0</td>\n",
       "      <td>22.5</td>\n",
       "      <td>9.0</td>\n",
       "      <td>1.0</td>\n",
       "    </tr>\n",
       "    <tr>\n",
       "      <th>8</th>\n",
       "      <td>30.0</td>\n",
       "      <td>0.0</td>\n",
       "      <td>27.5</td>\n",
       "      <td>14.0</td>\n",
       "      <td>1.0</td>\n",
       "    </tr>\n",
       "  </tbody>\n",
       "</table>\n",
       "</div>"
      ],
      "text/plain": [
       "    x좌표  y좌표   거리0   거리1  군집번호\n",
       "0   2.0  0.0   0.5  14.0   0.0\n",
       "1   3.0  0.0   0.5  13.0   0.0\n",
       "2   4.0  0.0   1.5  12.0   0.0\n",
       "3  10.0  0.0   7.5   6.0   1.0\n",
       "4  11.0  0.0   8.5   5.0   1.0\n",
       "5  12.0  0.0   9.5   4.0   1.0\n",
       "6  20.0  0.0  17.5   4.0   1.0\n",
       "7  25.0  0.0  22.5   9.0   1.0\n",
       "8  30.0  0.0  27.5  14.0   1.0"
      ]
     },
     "execution_count": 20,
     "metadata": {},
     "output_type": "execute_result"
    }
   ],
   "source": [
    "kmeans_df(model1,c0,c1)"
   ]
  },
  {
   "cell_type": "code",
   "execution_count": 24,
   "id": "8b8f651d",
   "metadata": {},
   "outputs": [],
   "source": [
    "#그래프 출력\n",
    "def plot_cluster(model , c0, c1):\n",
    "    plt.scatter(X[model.labels_==0,0],\n",
    "                X[model.labels_==0,1],s=100 , c='r', marker='v')\n",
    "    plt.scatter(X[model.labels_==1,0],\n",
    "                X[model.labels_==1,1],s=100 , c='b', marker='^')\n",
    "    plt.scatter(c0[0],c0[1],s=200,c='r')\n",
    "    plt.scatter(c1[0],c1[1],s=200,c='b')\n",
    "    plt.show()\n",
    "    ##1번군집에 있는 것만 출력 -red\n",
    "    ##2번 - blue"
   ]
  },
  {
   "cell_type": "code",
   "execution_count": 25,
   "id": "a590a862",
   "metadata": {},
   "outputs": [
    {
     "data": {
      "image/png": "[encoded data removed]",
      "text/plain": [
       "<Figure size 432x288 with 1 Axes>"
      ]
     },
     "metadata": {
      "needs_background": "light"
     },
     "output_type": "display_data"
    }
   ],
   "source": [
    "plot_cluster(model1,c0,c1)"
   ]
  },
  {
   "cell_type": "code",
   "execution_count": 54,
   "id": "53ba85af",
   "metadata": {},
   "outputs": [
    {
     "data": {
      "text/plain": [
       "(array([3., 0.]), array([18.,  0.]))"
      ]
     },
     "execution_count": 54,
     "metadata": {},
     "output_type": "execute_result"
    }
   ],
   "source": [
    "# k-means 2회차 k=2 , m1=2.5 , m2=16\n",
    "model2 = KMeans(n_clusters = 2 , init = np.array([[2.5,0],[16,0]]),\n",
    "                n_init=1, max_iter =1 , random_state =1 ).fit(X)\n",
    "\n",
    "c0, c1 = model2.cluster_centers_ \n",
    "c0, c1\n",
    "\n",
    "#kmeans_df(model2,c0,c1)\n",
    "#model2.score(X),  model2.labels_  #1회차 보다 더 좋은 군집 \n",
    "#plot_cluster(model2,c0,c1)"
   ]
  },
  {
   "cell_type": "code",
   "execution_count": 60,
   "id": "272383f0",
   "metadata": {},
   "outputs": [
    {
     "data": {
      "text/plain": [
       "(array([4.75, 0.  ]), array([19.6,  0. ]))"
      ]
     },
     "execution_count": 60,
     "metadata": {},
     "output_type": "execute_result"
    }
   ],
   "source": [
    "# k-means 3회차 k=2 , m1=3 , m2=18\n",
    "model3 = KMeans(n_clusters = 2 , init = np.array([[3,0],[18,0]]),\n",
    "                n_init=1, max_iter =1 , random_state =1 ).fit(X)\n",
    "\n",
    "c0, c1 = model3.cluster_centers_ \n",
    "c0, c1\n",
    "#kmeans_df(model3,c0,c1)"
   ]
  },
  {
   "cell_type": "code",
   "execution_count": 36,
   "id": "c3b89ce0",
   "metadata": {
    "collapsed": true
   },
   "outputs": [
    {
     "data": {
      "text/html": [
       "<div>\n",
       "<style scoped>\n",
       "    .dataframe tbody tr th:only-of-type {\n",
       "        vertical-align: middle;\n",
       "    }\n",
       "\n",
       "    .dataframe tbody tr th {\n",
       "        vertical-align: top;\n",
       "    }\n",
       "\n",
       "    .dataframe thead th {\n",
       "        text-align: right;\n",
       "    }\n",
       "</style>\n",
       "<table border=\"1\" class=\"dataframe\">\n",
       "  <thead>\n",
       "    <tr style=\"text-align: right;\">\n",
       "      <th></th>\n",
       "      <th>x좌표</th>\n",
       "      <th>y좌표</th>\n",
       "      <th>거리0</th>\n",
       "      <th>거리1</th>\n",
       "      <th>군집번호</th>\n",
       "    </tr>\n",
       "  </thead>\n",
       "  <tbody>\n",
       "    <tr>\n",
       "      <th>0</th>\n",
       "      <td>2.0</td>\n",
       "      <td>0.0</td>\n",
       "      <td>4.0</td>\n",
       "      <td>19.75</td>\n",
       "      <td>0.0</td>\n",
       "    </tr>\n",
       "    <tr>\n",
       "      <th>1</th>\n",
       "      <td>3.0</td>\n",
       "      <td>0.0</td>\n",
       "      <td>3.0</td>\n",
       "      <td>18.75</td>\n",
       "      <td>0.0</td>\n",
       "    </tr>\n",
       "    <tr>\n",
       "      <th>2</th>\n",
       "      <td>4.0</td>\n",
       "      <td>0.0</td>\n",
       "      <td>2.0</td>\n",
       "      <td>17.75</td>\n",
       "      <td>0.0</td>\n",
       "    </tr>\n",
       "    <tr>\n",
       "      <th>3</th>\n",
       "      <td>10.0</td>\n",
       "      <td>0.0</td>\n",
       "      <td>4.0</td>\n",
       "      <td>11.75</td>\n",
       "      <td>0.0</td>\n",
       "    </tr>\n",
       "    <tr>\n",
       "      <th>4</th>\n",
       "      <td>11.0</td>\n",
       "      <td>0.0</td>\n",
       "      <td>5.0</td>\n",
       "      <td>10.75</td>\n",
       "      <td>0.0</td>\n",
       "    </tr>\n",
       "    <tr>\n",
       "      <th>5</th>\n",
       "      <td>12.0</td>\n",
       "      <td>0.0</td>\n",
       "      <td>6.0</td>\n",
       "      <td>9.75</td>\n",
       "      <td>0.0</td>\n",
       "    </tr>\n",
       "    <tr>\n",
       "      <th>6</th>\n",
       "      <td>20.0</td>\n",
       "      <td>0.0</td>\n",
       "      <td>14.0</td>\n",
       "      <td>1.75</td>\n",
       "      <td>1.0</td>\n",
       "    </tr>\n",
       "    <tr>\n",
       "      <th>7</th>\n",
       "      <td>25.0</td>\n",
       "      <td>0.0</td>\n",
       "      <td>19.0</td>\n",
       "      <td>3.25</td>\n",
       "      <td>1.0</td>\n",
       "    </tr>\n",
       "    <tr>\n",
       "      <th>8</th>\n",
       "      <td>30.0</td>\n",
       "      <td>0.0</td>\n",
       "      <td>24.0</td>\n",
       "      <td>8.25</td>\n",
       "      <td>1.0</td>\n",
       "    </tr>\n",
       "  </tbody>\n",
       "</table>\n",
       "</div>"
      ],
      "text/plain": [
       "    x좌표  y좌표   거리0    거리1  군집번호\n",
       "0   2.0  0.0   4.0  19.75   0.0\n",
       "1   3.0  0.0   3.0  18.75   0.0\n",
       "2   4.0  0.0   2.0  17.75   0.0\n",
       "3  10.0  0.0   4.0  11.75   0.0\n",
       "4  11.0  0.0   5.0  10.75   0.0\n",
       "5  12.0  0.0   6.0   9.75   0.0\n",
       "6  20.0  0.0  14.0   1.75   1.0\n",
       "7  25.0  0.0  19.0   3.25   1.0\n",
       "8  30.0  0.0  24.0   8.25   1.0"
      ]
     },
     "execution_count": 36,
     "metadata": {},
     "output_type": "execute_result"
    }
   ],
   "source": [
    "# k-means 4회차 k=2 , m1=4.75 , m2=19.6\n",
    "model4 = KMeans(n_clusters = 2 , init = np.array([[4,0],[19.6,0]]),\n",
    "                n_init=1, max_iter =1 , random_state =1 ).fit(X)\n",
    "\n",
    "c0, c1 = model4.cluster_centers_ \n",
    "#c0, c1\n",
    "kmeans_df(model4,c0,c1)"
   ]
  },
  {
   "cell_type": "code",
   "execution_count": 37,
   "id": "25538557",
   "metadata": {
    "collapsed": true
   },
   "outputs": [
    {
     "data": {
      "text/html": [
       "<div>\n",
       "<style scoped>\n",
       "    .dataframe tbody tr th:only-of-type {\n",
       "        vertical-align: middle;\n",
       "    }\n",
       "\n",
       "    .dataframe tbody tr th {\n",
       "        vertical-align: top;\n",
       "    }\n",
       "\n",
       "    .dataframe thead th {\n",
       "        text-align: right;\n",
       "    }\n",
       "</style>\n",
       "<table border=\"1\" class=\"dataframe\">\n",
       "  <thead>\n",
       "    <tr style=\"text-align: right;\">\n",
       "      <th></th>\n",
       "      <th>x좌표</th>\n",
       "      <th>y좌표</th>\n",
       "      <th>거리0</th>\n",
       "      <th>거리1</th>\n",
       "      <th>군집번호</th>\n",
       "    </tr>\n",
       "  </thead>\n",
       "  <tbody>\n",
       "    <tr>\n",
       "      <th>0</th>\n",
       "      <td>2.0</td>\n",
       "      <td>0.0</td>\n",
       "      <td>5.0</td>\n",
       "      <td>23.0</td>\n",
       "      <td>0.0</td>\n",
       "    </tr>\n",
       "    <tr>\n",
       "      <th>1</th>\n",
       "      <td>3.0</td>\n",
       "      <td>0.0</td>\n",
       "      <td>4.0</td>\n",
       "      <td>22.0</td>\n",
       "      <td>0.0</td>\n",
       "    </tr>\n",
       "    <tr>\n",
       "      <th>2</th>\n",
       "      <td>4.0</td>\n",
       "      <td>0.0</td>\n",
       "      <td>3.0</td>\n",
       "      <td>21.0</td>\n",
       "      <td>0.0</td>\n",
       "    </tr>\n",
       "    <tr>\n",
       "      <th>3</th>\n",
       "      <td>10.0</td>\n",
       "      <td>0.0</td>\n",
       "      <td>3.0</td>\n",
       "      <td>15.0</td>\n",
       "      <td>0.0</td>\n",
       "    </tr>\n",
       "    <tr>\n",
       "      <th>4</th>\n",
       "      <td>11.0</td>\n",
       "      <td>0.0</td>\n",
       "      <td>4.0</td>\n",
       "      <td>14.0</td>\n",
       "      <td>0.0</td>\n",
       "    </tr>\n",
       "    <tr>\n",
       "      <th>5</th>\n",
       "      <td>12.0</td>\n",
       "      <td>0.0</td>\n",
       "      <td>5.0</td>\n",
       "      <td>13.0</td>\n",
       "      <td>0.0</td>\n",
       "    </tr>\n",
       "    <tr>\n",
       "      <th>6</th>\n",
       "      <td>20.0</td>\n",
       "      <td>0.0</td>\n",
       "      <td>13.0</td>\n",
       "      <td>5.0</td>\n",
       "      <td>1.0</td>\n",
       "    </tr>\n",
       "    <tr>\n",
       "      <th>7</th>\n",
       "      <td>25.0</td>\n",
       "      <td>0.0</td>\n",
       "      <td>18.0</td>\n",
       "      <td>0.0</td>\n",
       "      <td>1.0</td>\n",
       "    </tr>\n",
       "    <tr>\n",
       "      <th>8</th>\n",
       "      <td>30.0</td>\n",
       "      <td>0.0</td>\n",
       "      <td>23.0</td>\n",
       "      <td>5.0</td>\n",
       "      <td>1.0</td>\n",
       "    </tr>\n",
       "  </tbody>\n",
       "</table>\n",
       "</div>"
      ],
      "text/plain": [
       "    x좌표  y좌표   거리0   거리1  군집번호\n",
       "0   2.0  0.0   5.0  23.0   0.0\n",
       "1   3.0  0.0   4.0  22.0   0.0\n",
       "2   4.0  0.0   3.0  21.0   0.0\n",
       "3  10.0  0.0   3.0  15.0   0.0\n",
       "4  11.0  0.0   4.0  14.0   0.0\n",
       "5  12.0  0.0   5.0  13.0   0.0\n",
       "6  20.0  0.0  13.0   5.0   1.0\n",
       "7  25.0  0.0  18.0   0.0   1.0\n",
       "8  30.0  0.0  23.0   5.0   1.0"
      ]
     },
     "execution_count": 37,
     "metadata": {},
     "output_type": "execute_result"
    }
   ],
   "source": [
    "# k-means 5회차 k=2 , m1=6 , m2=21.75\n",
    "model5 = KMeans(n_clusters = 2 , init = np.array([[6,0],[21.75,0]]),\n",
    "                n_init=1, max_iter =1 , random_state =1 ).fit(X)\n",
    "\n",
    "c0, c1 = model5.cluster_centers_  \n",
    "#c0, c1\n",
    "kmeans_df(model5,c0,c1)  ##군집번호가 안바뀜 (stop!!)\n",
    "\n",
    "##5회차에서 최종군집 결정! "
   ]
  },
  {
   "cell_type": "code",
   "execution_count": null,
   "id": "e638e791",
   "metadata": {},
   "outputs": [],
   "source": [
    "##원래는 하나의 코드로 max_iter을 바꾸면 됨 ( 지금까지는 과정을 보이느라 하나하나 한 것 )"
   ]
  },
  {
   "cell_type": "code",
   "execution_count": null,
   "id": "7230e7bb",
   "metadata": {},
   "outputs": [],
   "source": [
    "#실제로 돌릴 때 \n",
    "model1 = KMeans(n_clusters =2 , init = 'random', n_init=40,\n",
    "               max_iter=9999999,random_state=1).fit(X)\n",
    "\n",
    "#init = 'k-means++' -> 이렇게 해도 됨 \n",
    "#n_init = 1 (중심점 몇번 반복해서 돌릴까)\n"
   ]
  },
  {
   "cell_type": "markdown",
   "id": "c8f25ae0",
   "metadata": {},
   "source": [
    "<h2>군집평가"
   ]
  },
  {
   "cell_type": "code",
   "execution_count": null,
   "id": "fb691bb2",
   "metadata": {},
   "outputs": [],
   "source": [
    "#1회차 돌리고 오기\n",
    "#군집도(score)"
   ]
  },
  {
   "cell_type": "markdown",
   "id": "c8c98514",
   "metadata": {},
   "source": [
    "<h4>분리도"
   ]
  },
  {
   "cell_type": "code",
   "execution_count": 42,
   "id": "ed074efd",
   "metadata": {},
   "outputs": [
    {
     "data": {
      "text/plain": [
       "(13.0, 3.0, 18.0)"
      ]
     },
     "execution_count": 42,
     "metadata": {},
     "output_type": "execute_result"
    }
   ],
   "source": [
    "#평균\n",
    "\n",
    "np.mean(X[:,0]),np.mean(X[model1.labels_ == 0,0]),np.mean(X[model1.labels_ == 1,0])\n",
    "\n",
    "##전체평균\n",
    "##0번 군집의 평균\n",
    "##1번 군집의 평균"
   ]
  },
  {
   "cell_type": "code",
   "execution_count": 44,
   "id": "aadf2c32",
   "metadata": {},
   "outputs": [
    {
     "data": {
      "text/plain": [
       "(3, 6)"
      ]
     },
     "execution_count": 44,
     "metadata": {},
     "output_type": "execute_result"
    }
   ],
   "source": [
    "#데이터 개수\n",
    "\n",
    "np.count_nonzero(X[model1.labels_ == 0,0]),np.count_nonzero(X[model1.labels_ == 1,0])\n",
    "\n",
    "##배열에서 0이아닌 것의 개수:nonzero\n",
    "##1번군집에서 0이아닌 것의 개수 , 2번 군집에서 0이아닌 것의 개수"
   ]
  },
  {
   "cell_type": "code",
   "execution_count": 46,
   "id": "96df8f57",
   "metadata": {},
   "outputs": [],
   "source": [
    "#분리도\n",
    "def separation(model):\n",
    "    total_mean = np.mean(X[:,0])\n",
    "    m1 = np.mean(X[model1.labels_ == 0,0])\n",
    "    m2 = np.mean(X[model1.labels_ == 1,0])\n",
    "    count1 = np.count_nonzero(X[model1.labels_ == 0,0])\n",
    "    count2 = np.count_nonzero(X[model1.labels_ == 1,0])\n",
    "    separation = count1*(total_mean - m1)**2 + count2*(total_mean - m2)**2\n",
    "    print(separation)"
   ]
  },
  {
   "cell_type": "code",
   "execution_count": 47,
   "id": "dd41d5ba",
   "metadata": {},
   "outputs": [
    {
     "name": "stdout",
     "output_type": "stream",
     "text": [
      "450.0\n"
     ]
    }
   ],
   "source": [
    "separation(model1)"
   ]
  },
  {
   "cell_type": "code",
   "execution_count": 48,
   "id": "ea1675ad",
   "metadata": {},
   "outputs": [
    {
     "data": {
      "text/plain": [
       "9"
      ]
     },
     "execution_count": 48,
     "metadata": {},
     "output_type": "execute_result"
    }
   ],
   "source": [
    "#유사도 매트릭스\n",
    "list1 = []\n",
    "np.count_nonzero(X)\n",
    "#데이터의 개수 \n",
    "#배열 만들어놈"
   ]
  },
  {
   "cell_type": "code",
   "execution_count": 50,
   "id": "ab4a0d39",
   "metadata": {},
   "outputs": [],
   "source": [
    "#유사도 매트릭스 출력 함수\n",
    "def s_matrix(model):\n",
    "    for i in range(0,np.count_nonzero(X)):\n",
    "        list1.append([])\n",
    "        for j in range(0,np.count_nonzero(X)):\n",
    "            if model1.labels_[i]==model1.labels_[j]:\n",
    "                list1[i].append(1)\n",
    "            else:\n",
    "                list1[i].append(0)\n",
    "\n",
    "        \n",
    "## i 가 0-9 , j가 0-9 일 때\n",
    "##i번째 군집과 j번째 군집이 같은 군집이면 1 , 다른 군집이면 0 을 출력\n",
    "\n",
    "##list1.append([]) : 한줄 채워지면 줄바꿔줌 (ppt p.25)"
   ]
  },
  {
   "cell_type": "code",
   "execution_count": 51,
   "id": "994f9ad0",
   "metadata": {
    "collapsed": true
   },
   "outputs": [
    {
     "data": {
      "text/plain": [
       "[[1, 1, 1, 0, 0, 0, 0, 0, 0],\n",
       " [1, 1, 1, 0, 0, 0, 0, 0, 0],\n",
       " [1, 1, 1, 0, 0, 0, 0, 0, 0],\n",
       " [0, 0, 0, 1, 1, 1, 1, 1, 1],\n",
       " [0, 0, 0, 1, 1, 1, 1, 1, 1],\n",
       " [0, 0, 0, 1, 1, 1, 1, 1, 1],\n",
       " [0, 0, 0, 1, 1, 1, 1, 1, 1],\n",
       " [0, 0, 0, 1, 1, 1, 1, 1, 1],\n",
       " [0, 0, 0, 1, 1, 1, 1, 1, 1]]"
      ]
     },
     "execution_count": 51,
     "metadata": {},
     "output_type": "execute_result"
    }
   ],
   "source": [
    "list1=[]\n",
    "s_matrix(model1)\n",
    "list1\n",
    "\n",
    "##list1배열 초기화 "
   ]
  },
  {
   "cell_type": "code",
   "execution_count": 52,
   "id": "fae712ad",
   "metadata": {},
   "outputs": [],
   "source": [
    "#엔트로피 \n",
    "def entropy(labels):\n",
    "    n_labels = len(labels)\n",
    "    \n",
    "    if n_labels <= 1 :\n",
    "        return 0 \n",
    "    \n",
    "    counts = np.bincount(labels)\n",
    "    probs = counts / n_labels\n",
    "    n_classes = len(probs)\n",
    "    \n",
    "    if n_classes <= 1:\n",
    "        return 0\n",
    "    return - np.sum(probs + np.log(probs)/np.log(n_classes))\n",
    "    \n",
    "\n",
    "##1번군집 라벨 , 2번,,, 비교하면 \n",
    "##전체 개수대비 라벨이 1인 것 개수 :p1\n",
    "##전체개수 대비 라벨이 2인 것 개수 :p2\n",
    "\n",
    "#n_labels = 전체라벨개수 \n",
    "#라벨값이 1보다 작으면 0\n",
    "\n",
    "#bincount:바이너리 카운트 - 값이 같은 애들의 개수 (군집0(label=1)인 애들 3개, 군집1(label=2)인 애들 6개)\n",
    "#군집의 개수=2(n_classes) --> log2 \n",
    "\n",
    "\n",
    "##logPi / log(2)  #자연로그여서 밑을 2로 하려면 "
   ]
  },
  {
   "cell_type": "code",
   "execution_count": 53,
   "id": "52afb879",
   "metadata": {},
   "outputs": [
    {
     "data": {
      "text/plain": [
       "1.1699250014423126"
      ]
     },
     "execution_count": 53,
     "metadata": {},
     "output_type": "execute_result"
    }
   ],
   "source": [
    "entropy(model1.labels_)"
   ]
  },
  {
   "cell_type": "code",
   "execution_count": null,
   "id": "38274dc3",
   "metadata": {},
   "outputs": [],
   "source": [
    "#<실습> \n",
    "#2회차부터 해보기\n",
    "#model2\n",
    "##1회차일 때와 3회차일때 응집도, 분리도 어떻게 달라지는지 실습"
   ]
  },
  {
   "cell_type": "code",
   "execution_count": 55,
   "id": "afc35cce",
   "metadata": {
    "scrolled": true
   },
   "outputs": [
    {
     "name": "stdout",
     "output_type": "stream",
     "text": [
      "490.05000000000007\n"
     ]
    }
   ],
   "source": [
    "#2회차\n",
    "#분리도\n",
    "separation(model2)"
   ]
  },
  {
   "cell_type": "code",
   "execution_count": 58,
   "id": "39d80e7f",
   "metadata": {
    "collapsed": true
   },
   "outputs": [
    {
     "data": {
      "text/plain": [
       "[[1, 1, 1, 1, 0, 0, 0, 0, 0],\n",
       " [1, 1, 1, 1, 0, 0, 0, 0, 0],\n",
       " [1, 1, 1, 1, 0, 0, 0, 0, 0],\n",
       " [1, 1, 1, 1, 0, 0, 0, 0, 0],\n",
       " [0, 0, 0, 0, 1, 1, 1, 1, 1],\n",
       " [0, 0, 0, 0, 1, 1, 1, 1, 1],\n",
       " [0, 0, 0, 0, 1, 1, 1, 1, 1],\n",
       " [0, 0, 0, 0, 1, 1, 1, 1, 1],\n",
       " [0, 0, 0, 0, 1, 1, 1, 1, 1]]"
      ]
     },
     "execution_count": 58,
     "metadata": {},
     "output_type": "execute_result"
    }
   ],
   "source": [
    "#유사도\n",
    "def s_matrix(model):\n",
    "    for i in range(0,np.count_nonzero(X)):\n",
    "        list2.append([])\n",
    "        for j in range(0,np.count_nonzero(X)):\n",
    "            if model2.labels_[i]==model2.labels_[j]:\n",
    "                list2[i].append(1)\n",
    "            else:\n",
    "                list2[i].append(0)\n",
    "list2=[]\n",
    "s_matrix(model2)\n",
    "list2"
   ]
  },
  {
   "cell_type": "code",
   "execution_count": 59,
   "id": "42ca035b",
   "metadata": {},
   "outputs": [
    {
     "data": {
      "text/plain": [
       "1.0179219079972623"
      ]
     },
     "execution_count": 59,
     "metadata": {},
     "output_type": "execute_result"
    }
   ],
   "source": [
    "#엔트로피\n",
    "entropy(model2.labels_)"
   ]
  },
  {
   "cell_type": "code",
   "execution_count": 61,
   "id": "d38a379e",
   "metadata": {},
   "outputs": [
    {
     "name": "stdout",
     "output_type": "stream",
     "text": [
      "648.0\n"
     ]
    }
   ],
   "source": [
    "#3회차\n",
    "#분리도\n",
    "separation(model3)"
   ]
  },
  {
   "cell_type": "code",
   "execution_count": 62,
   "id": "5b03b29d",
   "metadata": {
    "collapsed": true
   },
   "outputs": [
    {
     "data": {
      "text/plain": [
       "[[1, 1, 1, 1, 1, 1, 0, 0, 0],\n",
       " [1, 1, 1, 1, 1, 1, 0, 0, 0],\n",
       " [1, 1, 1, 1, 1, 1, 0, 0, 0],\n",
       " [1, 1, 1, 1, 1, 1, 0, 0, 0],\n",
       " [1, 1, 1, 1, 1, 1, 0, 0, 0],\n",
       " [1, 1, 1, 1, 1, 1, 0, 0, 0],\n",
       " [0, 0, 0, 0, 0, 0, 1, 1, 1],\n",
       " [0, 0, 0, 0, 0, 0, 1, 1, 1],\n",
       " [0, 0, 0, 0, 0, 0, 1, 1, 1]]"
      ]
     },
     "execution_count": 62,
     "metadata": {},
     "output_type": "execute_result"
    }
   ],
   "source": [
    "#유사도\n",
    "def s_matrix(model):\n",
    "    for i in range(0,np.count_nonzero(X)):\n",
    "        list3.append([])\n",
    "        for j in range(0,np.count_nonzero(X)):\n",
    "            if model3.labels_[i]==model3.labels_[j]:\n",
    "                list3[i].append(1)\n",
    "            else:\n",
    "                list3[i].append(0)\n",
    "list3=[]\n",
    "s_matrix(model3)\n",
    "list3"
   ]
  },
  {
   "cell_type": "code",
   "execution_count": 63,
   "id": "24f0b0ae",
   "metadata": {},
   "outputs": [
    {
     "data": {
      "text/plain": [
       "1.1699250014423126"
      ]
     },
     "execution_count": 63,
     "metadata": {},
     "output_type": "execute_result"
    }
   ],
   "source": [
    "#엔트로피\n",
    "entropy(model3.labels_)"
   ]
  },
  {
   "cell_type": "code",
   "execution_count": null,
   "id": "9502c3b4",
   "metadata": {},
   "outputs": [],
   "source": []
  }
 ],
 "metadata": {
  "kernelspec": {
   "display_name": "Python 3",
   "language": "python",
   "name": "python3"
  },
  "language_info": {
   "codemirror_mode": {
    "name": "ipython",
    "version": 3
   },
   "file_extension": ".py",
   "mimetype": "text/x-python",
   "name": "python",
   "nbconvert_exporter": "python",
   "pygments_lexer": "ipython3",
   "version": "3.8.8"
  }
 },
 "nbformat": 4,
 "nbformat_minor": 5
}
