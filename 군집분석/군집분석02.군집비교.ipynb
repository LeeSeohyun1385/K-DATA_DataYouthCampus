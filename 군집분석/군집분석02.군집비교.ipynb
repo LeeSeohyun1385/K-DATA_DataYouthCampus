{
 "cells": [
  {
   "cell_type": "code",
   "execution_count": 1,
   "id": "084d7e3e",
   "metadata": {},
   "outputs": [],
   "source": [
    "from __future__ import print_function\n",
    "from sklearn.datasets import make_blobs\n",
    "from sklearn.cluster import KMeans\n",
    "#from sklearn.metrics import silhouette_samples. silhouette_score\n",
    "from pandas import DataFrame\n",
    "#from sclpy.stats import entropy\n",
    "#from math import log,e\n",
    "import matplotlib.pyplot as plt\n",
    "#import matplotlib.cm as cm\n",
    "import numpy as np\n",
    "import pandas as pd"
   ]
  },
  {
   "cell_type": "markdown",
   "id": "b19f1942",
   "metadata": {},
   "source": [
    "<h1>군집비교"
   ]
  },
  {
   "cell_type": "code",
   "execution_count": 2,
   "id": "58d1fa1c",
   "metadata": {
    "collapsed": true
   },
   "outputs": [
    {
     "data": {
      "image/png": "[encoded data removed]",
      "text/plain": [
       "<Figure size 432x288 with 1 Axes>"
      ]
     },
     "metadata": {
      "needs_background": "light"
     },
     "output_type": "display_data"
    }
   ],
   "source": [
    "X = np.array([[2,0],[3,0],[4,0],[10,0],[11,0],[12,0],[20,0],[25,0],[30,0]])\n",
    "plt.scatter(X[:,0],X[:,1],s=100)\n",
    "plt.show()"
   ]
  },
  {
   "cell_type": "markdown",
   "id": "e3609bf3",
   "metadata": {},
   "source": [
    "<h3>1회차 vs 10회차"
   ]
  },
  {
   "cell_type": "code",
   "execution_count": 55,
   "id": "efc44466",
   "metadata": {},
   "outputs": [
    {
     "data": {
      "text/plain": [
       "(array([2.5, 0. ]), array([16.,  0.]))"
      ]
     },
     "execution_count": 55,
     "metadata": {},
     "output_type": "execute_result"
    }
   ],
   "source": [
    "#1회차\n",
    "model1 = KMeans(n_clusters = 2 , init = np.array([[3,0],[4,0]]),\n",
    "                n_init=1, max_iter =1 , random_state =1 ).fit(X)\n",
    "\n",
    "c0, c1 = model1.cluster_centers_\n",
    "c0, c1"
   ]
  },
  {
   "cell_type": "code",
   "execution_count": 9,
   "id": "659e0c47",
   "metadata": {},
   "outputs": [
    {
     "data": {
      "text/plain": [
       "(array([7., 0.]), array([25.,  0.]))"
      ]
     },
     "execution_count": 9,
     "metadata": {},
     "output_type": "execute_result"
    }
   ],
   "source": [
    "#10회차 kmeans, k-centroid(중심에 가까운 데이터가 중요할 때)\n",
    "\n",
    "#model10 = KMeans(n_clusters = 2 , init ='random',\n",
    "                #n_init=1, max_iter =10 , random_state =1 ).fit(X) \n",
    "\n",
    "    \n",
    "model10 = KMeans(n_clusters = 2 , init = 'k-means++',\n",
    "                n_init=1, max_iter =10 , random_state =1 ).fit(X) \n",
    "#랜덤보다 더 좋음 \n",
    "\n",
    "c0, c1 = model10.cluster_centers_ ##군집분석 돌린 결과 새로운 중심이 저장 \n",
    "c0, c1"
   ]
  },
  {
   "cell_type": "markdown",
   "id": "d471c0f7",
   "metadata": {},
   "source": [
    "군집도, 분리도 비교 "
   ]
  },
  {
   "cell_type": "code",
   "execution_count": 10,
   "id": "ab1df391",
   "metadata": {},
   "outputs": [
    {
     "data": {
      "text/plain": [
       "(-372.75, -150.0)"
      ]
     },
     "execution_count": 10,
     "metadata": {},
     "output_type": "execute_result"
    }
   ],
   "source": [
    "#군집도 비교\n",
    "model1.score(X), model10.score(X)\n",
    "#절댓값으로 해석하면 된다"
   ]
  },
  {
   "cell_type": "code",
   "execution_count": 12,
   "id": "e20d26d5",
   "metadata": {},
   "outputs": [
    {
     "data": {
      "text/plain": [
       "(13.0, 3.0, 3)"
      ]
     },
     "execution_count": 12,
     "metadata": {},
     "output_type": "execute_result"
    }
   ],
   "source": [
    "#분리도 비교\n",
    "np.mean(X[:,0]),np.mean(X[model1.labels_==0,0]),np.count_nonzero(X[model1.labels_==0,0])\n",
    "#전체 평균, 0번군집 평균 , 개수 "
   ]
  },
  {
   "cell_type": "code",
   "execution_count": 13,
   "id": "f5acc1f9",
   "metadata": {},
   "outputs": [
    {
     "data": {
      "text/plain": [
       "(13.0, 25.0, 3)"
      ]
     },
     "execution_count": 13,
     "metadata": {},
     "output_type": "execute_result"
    }
   ],
   "source": [
    "#10회차 군집의 평균,개수\n",
    "np.mean(X[:,0]),np.mean(X[model10.labels_==1,0]),np.count_nonzero(X[model10.labels_==1,0])"
   ]
  },
  {
   "cell_type": "code",
   "execution_count": 112,
   "id": "5cfd4c32",
   "metadata": {},
   "outputs": [],
   "source": [
    "def k_separation(model1,c0,c1):\n",
    "    total_mean = np.mean(X[:,0])\n",
    "    m1 = np.mean(X[model1.labels_ == 0,0])\n",
    "    m2 = np.mean(X[model1.labels_ == 1,0])\n",
    "    count1 = np.count_nonzero(X[model1.labels_,0] == 2)\n",
    "    count2 = np.count_nonzero(X[model1.labels_,0] == 3)\n",
    "    separation = count1*(total_mean - m1)**2 + count2*(total_mean - m2)**2\n",
    "    print(separation)"
   ]
  },
  {
   "cell_type": "code",
   "execution_count": 23,
   "id": "e9c10240",
   "metadata": {},
   "outputs": [
    {
     "name": "stdout",
     "output_type": "stream",
     "text": [
      "450.0\n",
      "648.0\n"
     ]
    },
    {
     "data": {
      "text/plain": [
       "(None, None)"
      ]
     },
     "execution_count": 23,
     "metadata": {},
     "output_type": "execute_result"
    }
   ],
   "source": [
    "k_separation(model1,c0,c1), k_separation(model10,c0,c1)"
   ]
  },
  {
   "cell_type": "markdown",
   "id": "62ca07ae",
   "metadata": {},
   "source": [
    "유사도 매트릭스 비교"
   ]
  },
  {
   "cell_type": "code",
   "execution_count": 20,
   "id": "68971aab",
   "metadata": {},
   "outputs": [],
   "source": [
    "#유사도 매트릭스 비교 \n",
    "\n",
    "list1=[]\n",
    "\n",
    "def s_matrix(model):\n",
    "    for i in range(0,np.count_nonzero(X)):\n",
    "        list1.append([])\n",
    "        for j in range(0,np.count_nonzero(X)):\n",
    "            if model.labels_[i]== model.labels_[j]:\n",
    "                list1[i].append(1)\n",
    "            else:\n",
    "                list1[i].append(0)\n"
   ]
  },
  {
   "cell_type": "code",
   "execution_count": 21,
   "id": "7734d321",
   "metadata": {
    "scrolled": true
   },
   "outputs": [
    {
     "data": {
      "text/plain": [
       "[[1, 1, 1, 0, 0, 0, 0, 0, 0],\n",
       " [1, 1, 1, 0, 0, 0, 0, 0, 0],\n",
       " [1, 1, 1, 0, 0, 0, 0, 0, 0],\n",
       " [0, 0, 0, 1, 1, 1, 1, 1, 1],\n",
       " [0, 0, 0, 1, 1, 1, 1, 1, 1],\n",
       " [0, 0, 0, 1, 1, 1, 1, 1, 1],\n",
       " [0, 0, 0, 1, 1, 1, 1, 1, 1],\n",
       " [0, 0, 0, 1, 1, 1, 1, 1, 1],\n",
       " [0, 0, 0, 1, 1, 1, 1, 1, 1]]"
      ]
     },
     "execution_count": 21,
     "metadata": {},
     "output_type": "execute_result"
    }
   ],
   "source": [
    "list1=[]\n",
    "s_matrix(model1)\n",
    "list1"
   ]
  },
  {
   "cell_type": "code",
   "execution_count": 24,
   "id": "f84b486a",
   "metadata": {
    "collapsed": true
   },
   "outputs": [
    {
     "data": {
      "text/plain": [
       "[[1, 1, 1, 1, 1, 1, 0, 0, 0],\n",
       " [1, 1, 1, 1, 1, 1, 0, 0, 0],\n",
       " [1, 1, 1, 1, 1, 1, 0, 0, 0],\n",
       " [1, 1, 1, 1, 1, 1, 0, 0, 0],\n",
       " [1, 1, 1, 1, 1, 1, 0, 0, 0],\n",
       " [1, 1, 1, 1, 1, 1, 0, 0, 0],\n",
       " [0, 0, 0, 0, 0, 0, 1, 1, 1],\n",
       " [0, 0, 0, 0, 0, 0, 1, 1, 1],\n",
       " [0, 0, 0, 0, 0, 0, 1, 1, 1]]"
      ]
     },
     "execution_count": 24,
     "metadata": {},
     "output_type": "execute_result"
    }
   ],
   "source": [
    "list1=[]\n",
    "s_matrix(model10)\n",
    "list1"
   ]
  },
  {
   "cell_type": "code",
   "execution_count": null,
   "id": "387bfc3c",
   "metadata": {},
   "outputs": [],
   "source": [
    "list1=[]\n",
    "s_matrix(model1)\n",
    "list1"
   ]
  },
  {
   "cell_type": "code",
   "execution_count": 51,
   "id": "8750ff7f",
   "metadata": {
    "scrolled": true
   },
   "outputs": [
    {
     "data": {
      "text/plain": [
       "(array([13.25,  0.  ]), array([27.5,  0. ]), array([3., 0.]))"
      ]
     },
     "execution_count": 51,
     "metadata": {},
     "output_type": "execute_result"
    }
   ],
   "source": [
    "#k=3 군집3개\n",
    "model3 = KMeans(n_clusters = 3 ,\n",
    "                n_init=1, max_iter =50 , random_state =1 ).fit(X)\n",
    "\n",
    "c0, c1, c2 = model3.cluster_centers_\n",
    "c0, c1, c2"
   ]
  },
  {
   "cell_type": "code",
   "execution_count": 27,
   "id": "6d1833f5",
   "metadata": {},
   "outputs": [
    {
     "data": {
      "text/plain": [
       "[[1, 1, 1, 0, 0, 0, 0, 0, 0],\n",
       " [1, 1, 1, 0, 0, 0, 0, 0, 0],\n",
       " [1, 1, 1, 0, 0, 0, 0, 0, 0],\n",
       " [0, 0, 0, 1, 1, 1, 1, 0, 0],\n",
       " [0, 0, 0, 1, 1, 1, 1, 0, 0],\n",
       " [0, 0, 0, 1, 1, 1, 1, 0, 0],\n",
       " [0, 0, 0, 1, 1, 1, 1, 0, 0],\n",
       " [0, 0, 0, 0, 0, 0, 0, 1, 1],\n",
       " [0, 0, 0, 0, 0, 0, 0, 1, 1]]"
      ]
     },
     "execution_count": 27,
     "metadata": {},
     "output_type": "execute_result"
    }
   ],
   "source": [
    "list1=[]\n",
    "s_matrix(model3)\n",
    "list1\n",
    "#위 두 모델보다 괜찮아보임 "
   ]
  },
  {
   "cell_type": "markdown",
   "id": "0d04167d",
   "metadata": {},
   "source": [
    "엔트로피 비교 "
   ]
  },
  {
   "cell_type": "code",
   "execution_count": 56,
   "id": "ec834c12",
   "metadata": {},
   "outputs": [],
   "source": [
    "#엔트로피\n",
    "def entropy(labels):\n",
    "    n_labels = len(labels)\n",
    "    \n",
    "    if n_labels <= 1 :\n",
    "        return 0 \n",
    "    \n",
    "    counts = np.bincount(labels)\n",
    "    probs = counts[np.nonzero(counts)] / n_labels\n",
    "    n_classes = len(probs)\n",
    "    \n",
    "    if n_classes <= 1:\n",
    "        return 0\n",
    "    \n",
    "    return - np.sum(probs * np.log(probs))/np.log(n_classes)\n",
    "    "
   ]
  },
  {
   "cell_type": "code",
   "execution_count": 53,
   "id": "95b77c52",
   "metadata": {},
   "outputs": [
    {
     "data": {
      "text/plain": [
       "(array([3., 0.]), array([18.,  0.]))"
      ]
     },
     "execution_count": 53,
     "metadata": {},
     "output_type": "execute_result"
    }
   ],
   "source": [
    "#비교를 위해 k=2 2회차 모델 생성\n",
    "model2 = KMeans(n_clusters = 2 , init = np.array([[3,0],[4,0]]),\n",
    "                n_init=1, max_iter =2 , random_state =1 ).fit(X)\n",
    "\n",
    "c0, c1 = model2.cluster_centers_\n",
    "c0, c1"
   ]
  },
  {
   "cell_type": "code",
   "execution_count": 29,
   "id": "15718fb3",
   "metadata": {},
   "outputs": [],
   "source": [
    "#2회차 vs 1회차 비교\n",
    "def plot_cluster(model , c0, c1):\n",
    "    plt.scatter(X[model.labels_==0,0],\n",
    "                X[model.labels_==0,1],s=100 , c='r', marker='v')\n",
    "    plt.scatter(X[model.labels_==1,0],\n",
    "                X[model.labels_==1,1],s=100 , c='b', marker='^')\n",
    "    plt.scatter(c0[0],c0[1],s=200,c='r')\n",
    "    plt.scatter(c1[0],c1[1],s=200,c='b')\n",
    "    plt.show()"
   ]
  },
  {
   "cell_type": "code",
   "execution_count": 30,
   "id": "1444881b",
   "metadata": {
    "collapsed": true
   },
   "outputs": [
    {
     "data": {
      "image/png": "[encoded data removed]",
      "text/plain": [
       "<Figure size 432x288 with 1 Axes>"
      ]
     },
     "metadata": {
      "needs_background": "light"
     },
     "output_type": "display_data"
    }
   ],
   "source": [
    "plot_cluster(model1,c0,c1)"
   ]
  },
  {
   "cell_type": "code",
   "execution_count": 31,
   "id": "7a4833bc",
   "metadata": {
    "collapsed": true
   },
   "outputs": [
    {
     "data": {
      "image/png": "[encoded data removed]",
      "text/plain": [
       "<Figure size 432x288 with 1 Axes>"
      ]
     },
     "metadata": {
      "needs_background": "light"
     },
     "output_type": "display_data"
    }
   ],
   "source": [
    "plot_cluster(model2,c0,c1)"
   ]
  },
  {
   "cell_type": "code",
   "execution_count": 32,
   "id": "716396f8",
   "metadata": {
    "collapsed": true
   },
   "outputs": [
    {
     "data": {
      "image/png": "[encoded data removed]",
      "text/plain": [
       "<Figure size 432x288 with 1 Axes>"
      ]
     },
     "metadata": {
      "needs_background": "light"
     },
     "output_type": "display_data"
    }
   ],
   "source": [
    "plot_cluster(model10,c0,c1)\n",
    "#2회차의 c0,c1이 찍힘 "
   ]
  },
  {
   "cell_type": "code",
   "execution_count": 57,
   "id": "579f19e3",
   "metadata": {},
   "outputs": [
    {
     "data": {
      "text/plain": [
       "(0.9182958340544894, 0.9910760598382222, 0.9182958340544894)"
      ]
     },
     "execution_count": 57,
     "metadata": {},
     "output_type": "execute_result"
    }
   ],
   "source": [
    "#엔트로피 비교\n",
    "entropy(model1.labels_),entropy(model2.labels_),entropy(model10.labels_)"
   ]
  },
  {
   "cell_type": "code",
   "execution_count": 58,
   "id": "a263138d",
   "metadata": {},
   "outputs": [
    {
     "data": {
      "text/plain": [
       "0.965633607142825"
      ]
     },
     "execution_count": 58,
     "metadata": {},
     "output_type": "execute_result"
    }
   ],
   "source": [
    "entropy(model3.labels_)"
   ]
  },
  {
   "cell_type": "markdown",
   "id": "c8063e54",
   "metadata": {},
   "source": [
    "preswot 문제 실습 "
   ]
  },
  {
   "cell_type": "code",
   "execution_count": 69,
   "id": "22a927b4",
   "metadata": {},
   "outputs": [
    {
     "data": {
      "text/plain": [
       "(array([9.42857143, 0.        ]), array([23.33333333,  0.        ]))"
      ]
     },
     "execution_count": 69,
     "metadata": {},
     "output_type": "execute_result"
    }
   ],
   "source": [
    "X = np.array([[3, 0], [8, 0], [9, 0], [10, 0], [11, 0], [12, 0],  [13, 0], [18, 0], \n",
    "              [20, 0], [23, 0], [24, 0], [25, 0], [30, 0]])\n",
    "model = KMeans(n_clusters=2, init='random', n_init=20,\n",
    "               max_iter=100, random_state=1).fit(X)\n",
    "\n",
    "c0, c1 = model.cluster_centers_ ##군집분석 돌린 결과 새로운 중심이 저장 \n",
    "c0, c1"
   ]
  },
  {
   "cell_type": "code",
   "execution_count": 96,
   "id": "0b73367e",
   "metadata": {},
   "outputs": [
    {
     "name": "stdout",
     "output_type": "stream",
     "text": [
      "392.40499671268884\n"
     ]
    }
   ],
   "source": [
    "k_separation(model)"
   ]
  },
  {
   "cell_type": "code",
   "execution_count": 74,
   "id": "aa504d68",
   "metadata": {
    "scrolled": true
   },
   "outputs": [
    {
     "name": "stdout",
     "output_type": "stream",
     "text": [
      "392.40499671268884\n"
     ]
    },
    {
     "data": {
      "text/plain": [
       "(-153.04761904761904, None, 0.9957274520849256)"
      ]
     },
     "execution_count": 74,
     "metadata": {},
     "output_type": "execute_result"
    }
   ],
   "source": [
    "model.score(X), k_separation(model,c0,c1), entropy(model.labels_)"
   ]
  },
  {
   "cell_type": "code",
   "execution_count": 89,
   "id": "64ea7a29",
   "metadata": {},
   "outputs": [
    {
     "data": {
      "text/plain": [
       "(array([5.5, 0. ]), array([11.,  0.]), array([23.33333333,  0.        ]))"
      ]
     },
     "execution_count": 89,
     "metadata": {},
     "output_type": "execute_result"
    }
   ],
   "source": [
    "X = np.array([[3, 0], [8, 0], [9, 0], [10, 0], [11, 0], [12, 0],  [13, 0], [18, 0], \n",
    "              [20, 0], [23, 0], [24, 0], [25, 0], [30, 0]])\n",
    "\n",
    "model1 = KMeans(n_clusters=3, init='random', n_init=1,\n",
    "               max_iter=10, random_state=1).fit(X)\n",
    "c0, c1, c2 = model1.cluster_centers_ ##군집분석 돌린 결과 새로운 중심이 저장 \n",
    "c0, c1 ,c2\n",
    "#model2 = KMeans(n_clusters=3, init='random', n_init=1,\n",
    "               #max_iter=1, random_state=1).fit(X)\n"
   ]
  },
  {
   "cell_type": "code",
   "execution_count": 94,
   "id": "85538a85",
   "metadata": {
    "scrolled": true
   },
   "outputs": [
    {
     "name": "stdout",
     "output_type": "stream",
     "text": [
      "46.970414201183445\n"
     ]
    },
    {
     "data": {
      "text/plain": [
       "(-109.83333333333331, None)"
      ]
     },
     "execution_count": 94,
     "metadata": {},
     "output_type": "execute_result"
    }
   ],
   "source": [
    "model1.score(X),k_separation(model1)"
   ]
  },
  {
   "cell_type": "markdown",
   "id": "c9f69a4c",
   "metadata": {},
   "source": [
    "<h1> SSE 기반의 k 탐색"
   ]
  },
  {
   "cell_type": "code",
   "execution_count": 98,
   "id": "6fb38eff",
   "metadata": {
    "collapsed": true
   },
   "outputs": [
    {
     "data": {
      "image/png": "[encoded data removed]",
      "text/plain": [
       "<Figure size 432x288 with 1 Axes>"
      ]
     },
     "metadata": {
      "needs_background": "light"
     },
     "output_type": "display_data"
    }
   ],
   "source": [
    "X = np.array([[2,0],[3,0],[4,0],[10,0],[11,0],[12,0],[20,0],[25,0],[30,0]])\n",
    "plt.scatter(X[:,0],X[:,1],s=100)\n",
    "plt.show()"
   ]
  },
  {
   "cell_type": "code",
   "execution_count": 99,
   "id": "ad298fad",
   "metadata": {
    "collapsed": true
   },
   "outputs": [
    {
     "name": "stderr",
     "output_type": "stream",
     "text": [
      "C:\\ProgramData\\Anaconda3\\lib\\site-packages\\sklearn\\cluster\\_kmeans.py:881: UserWarning: KMeans is known to have a memory leak on Windows with MKL, when there are less chunks than available threads. You can avoid it by setting the environment variable OMP_NUM_THREADS=1.\n",
      "  warnings.warn(\n"
     ]
    },
    {
     "data": {
      "text/plain": [
       "[798.0, 150.0, 54.0, 16.5, 4.0, 2.5, 1.0, 0.5, 0.0]"
      ]
     },
     "execution_count": 99,
     "metadata": {},
     "output_type": "execute_result"
    }
   ],
   "source": [
    "ks = range(1,10)\n",
    "SSE = []\n",
    "\n",
    "for k in ks:\n",
    "    model = KMeans(n_clusters=k).fit(X)\n",
    "    SSE.append(model.inertia_) #응집도 추가(in error~의 약자)\n",
    "SSE\n",
    "\n",
    "##어느정도 값이 많이 줄어드는 k=5 까지 괜찮을 거라고 봄 "
   ]
  },
  {
   "cell_type": "code",
   "execution_count": 100,
   "id": "46c047e4",
   "metadata": {
    "collapsed": true
   },
   "outputs": [
    {
     "data": {
      "image/png": "[encoded data removed]",
      "text/plain": [
       "<Figure size 432x288 with 1 Axes>"
      ]
     },
     "metadata": {
      "needs_background": "light"
     },
     "output_type": "display_data"
    }
   ],
   "source": [
    "plt.plot(ks,SSE,'-o')\n",
    "plt.xlabel('number-of clusters k')\n",
    "plt.ylabel('SSE')\n",
    "plt.show()\n",
    "\n",
    "#대체적인 기울기로 보면 k=3까지 괜찮을거라고 봄 "
   ]
  },
  {
   "cell_type": "markdown",
   "id": "95ed8724",
   "metadata": {},
   "source": [
    "preswot 문제 실습 (K-means 2차원 데이터)"
   ]
  },
  {
   "cell_type": "code",
   "execution_count": 101,
   "id": "3ed7381c",
   "metadata": {},
   "outputs": [],
   "source": [
    "X = np.array([[7, 5], [5, 7], [7, 7], [4, 4], [4, 6], [1, 4],\n",
    "              [0, 0], [2, 2], [8, 7], [6, 8], [5, 5], [3, 7]])"
   ]
  },
  {
   "cell_type": "code",
   "execution_count": 102,
   "id": "7d854096",
   "metadata": {
    "collapsed": true
   },
   "outputs": [
    {
     "name": "stderr",
     "output_type": "stream",
     "text": [
      "C:\\ProgramData\\Anaconda3\\lib\\site-packages\\sklearn\\cluster\\_kmeans.py:881: UserWarning: KMeans is known to have a memory leak on Windows with MKL, when there are less chunks than available threads. You can avoid it by setting the environment variable OMP_NUM_THREADS=1.\n",
      "  warnings.warn(\n"
     ]
    },
    {
     "data": {
      "text/plain": [
       "[130.33333333333334,\n",
       " 45.777777777777786,\n",
       " 26.349999999999998,\n",
       " 18.849999999999998,\n",
       " 12.916666666666666,\n",
       " 8.833333333333332,\n",
       " 6.0,\n",
       " 4.166666666666666,\n",
       " 2.5]"
      ]
     },
     "execution_count": 102,
     "metadata": {},
     "output_type": "execute_result"
    }
   ],
   "source": [
    "ks = range(1,10)\n",
    "SSE = []\n",
    "\n",
    "for k in ks:\n",
    "    model = KMeans(n_clusters=k).fit(X)\n",
    "    SSE.append(model.inertia_) #응집도 추가(in error~의 약자)\n",
    "SSE"
   ]
  },
  {
   "cell_type": "code",
   "execution_count": 103,
   "id": "0ed93c9e",
   "metadata": {
    "collapsed": true
   },
   "outputs": [
    {
     "data": {
      "image/png": "[encoded data removed]",
      "text/plain": [
       "<Figure size 432x288 with 1 Axes>"
      ]
     },
     "metadata": {
      "needs_background": "light"
     },
     "output_type": "display_data"
    }
   ],
   "source": [
    "plt.plot(ks,SSE,'-o')\n",
    "plt.xlabel('number-of clusters k')\n",
    "plt.ylabel('SSE')\n",
    "plt.show()"
   ]
  },
  {
   "cell_type": "code",
   "execution_count": 107,
   "id": "b0593d87",
   "metadata": {
    "collapsed": true
   },
   "outputs": [
    {
     "data": {
      "text/plain": [
       "(array([5.625, 6.5  ]), array([1.75, 2.5 ]))"
      ]
     },
     "execution_count": 107,
     "metadata": {},
     "output_type": "execute_result"
    }
   ],
   "source": [
    "model2 = KMeans(n_clusters=2, init='random', n_init=1,\n",
    "               max_iter=10, random_state=1).fit(X)\n",
    "c0, c1 = model2.cluster_centers_ ##군집분석 돌린 결과 새로운 중심이 저장 \n",
    "c0, c1"
   ]
  },
  {
   "cell_type": "code",
   "execution_count": 117,
   "id": "60d1ee7c",
   "metadata": {
    "collapsed": true
   },
   "outputs": [
    {
     "data": {
      "text/plain": [
       "(array([7.  , 6.75]), array([1., 2.]), array([4.2, 5.8]))"
      ]
     },
     "execution_count": 117,
     "metadata": {},
     "output_type": "execute_result"
    }
   ],
   "source": [
    "model3 = KMeans(n_clusters=3, init='random', n_init=1,\n",
    "               max_iter=10, random_state=1).fit(X)\n",
    "c0, c1, c2 = model3.cluster_centers_ ##군집분석 돌린 결과 새로운 중심이 저장 \n",
    "c0, c1 ,c2"
   ]
  },
  {
   "cell_type": "code",
   "execution_count": 122,
   "id": "f1d64177",
   "metadata": {},
   "outputs": [],
   "source": [
    "#분리도(k=3)\n",
    "def separation2(model):\n",
    "    total_mean = np.mean(X[:,0])\n",
    "    m1 = np.mean(X[model.labels_ == 0,0])\n",
    "    m2 = np.mean(X[model.labels_ == 1,0])\n",
    "    m3 = np.mean(X[model.labels_ == 2,0])\n",
    "    count1 = np.count_nonzero(X[model.labels_ == 0,0])\n",
    "    count2 = np.count_nonzero(X[model.labels_ == 1,0])\n",
    "    count3 = np.count_nonzero(X[model.labels_ == 2,0])\n",
    "    separation = count1*(total_mean - m1)**2 + count2*(total_mean - m2)**2+count3*(total_mean - m3)**2\n",
    "    print(separation)"
   ]
  },
  {
   "cell_type": "code",
   "execution_count": 115,
   "id": "37b4c0fd",
   "metadata": {
    "collapsed": true
   },
   "outputs": [
    {
     "name": "stdout",
     "output_type": "stream",
     "text": [
      "33.36805555555556\n"
     ]
    }
   ],
   "source": [
    "model2.score(X),separation(model2),entropy(model2.labels_)"
   ]
  },
  {
   "cell_type": "code",
   "execution_count": 119,
   "id": "5348791e",
   "metadata": {
    "collapsed": true
   },
   "outputs": [
    {
     "data": {
      "text/plain": [
       "-26.35"
      ]
     },
     "execution_count": 119,
     "metadata": {},
     "output_type": "execute_result"
    }
   ],
   "source": [
    "model3.score(X),separation2(model3),entropy(model3.labels_)"
   ]
  }
 ],
 "metadata": {
  "kernelspec": {
   "display_name": "Python 3",
   "language": "python",
   "name": "python3"
  },
  "language_info": {
   "codemirror_mode": {
    "name": "ipython",
    "version": 3
   },
   "file_extension": ".py",
   "mimetype": "text/x-python",
   "name": "python",
   "nbconvert_exporter": "python",
   "pygments_lexer": "ipython3",
   "version": "3.8.8"
  }
 },
 "nbformat": 4,
 "nbformat_minor": 5
}
